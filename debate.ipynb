{
 "cells": [
  {
   "cell_type": "code",
   "execution_count": 1,
   "metadata": {},
   "outputs": [],
   "source": [
    "from openai import OpenAI"
   ]
  },
  {
   "cell_type": "code",
   "execution_count": 2,
   "metadata": {},
   "outputs": [],
   "source": [
    "import os\n",
    "api_key = os.getenv('OPENAI_API_KEY')\n",
    "organization_id = os.getenv('OPENAI_ORG_ID')\n",
    "if not api_key:\n",
    "    raise ValueError(\"Please set the OPENAI_API_KEY environment variable.\")\n",
    "if not organization_id:\n",
    "    raise ValueError(\"Please set the OPENAI_ORG_ID environment variable.\")\n"
   ]
  },
  {
   "cell_type": "code",
   "execution_count": 3,
   "metadata": {},
   "outputs": [],
   "source": [
    "import openai\n",
    "from openai import OpenAI\n",
    "client = OpenAI(\n",
    "    organization=organization_id,\n",
    "    api_key=api_key\n",
    ")"
   ]
  },
  {
   "cell_type": "code",
   "execution_count": 4,
   "metadata": {},
   "outputs": [],
   "source": [
    "def call_model(model=\"gpt-3.5-turbo\", system_message=None, user_message=None):\n",
    "    return client.chat.completions.create(\n",
    "        model=model,\n",
    "        messages=[\n",
    "            {\"role\": \"system\", \"content\": system_message},\n",
    "            {\"role\": \"user\", \"content\": user_message}\n",
    "        ]\n",
    "    )"
   ]
  },
  {
   "cell_type": "code",
   "execution_count": 21,
   "metadata": {},
   "outputs": [
    {
     "data": {
      "text/html": [
       "<style>.output_scroll {height: 300px; overflow-y: scroll; white-space: pre-wrap;}</style>"
      ],
      "text/plain": [
       "<IPython.core.display.HTML object>"
      ]
     },
     "metadata": {},
     "output_type": "display_data"
    },
    {
     "name": "stdout",
     "output_type": "stream",
     "text": [
      "\n",
      "--- Debate Topic ---\n"
     ]
    },
    {
     "data": {
      "text/markdown": [
       "Should I start a career in hedge fund, after completing computer science PhD?"
      ],
      "text/plain": [
       "<IPython.core.display.Markdown object>"
      ]
     },
     "metadata": {},
     "output_type": "display_data"
    },
    {
     "name": "stdout",
     "output_type": "stream",
     "text": [
      "\n",
      "Position A: Yes, you should start a career in hedge fund after completing computer science PhD.\n",
      "\n",
      "Position B: No, you should NOT start a career in hedge fund after completing computer science PhD.\n",
      "\n",
      "--- Round 1 ---\n",
      "Position A:\n"
     ]
    },
    {
     "data": {
      "text/markdown": [
       "Yes, starting a career in a hedge fund after completing a computer science PhD can be a promising and rewarding choice for several reasons:\n",
       "\n",
       "1. **Utilization of Skills**: A computer science PhD equips you with strong analytical, problem-solving, and technical skills that are highly sought after in the finance industry, especially in roles that involve quantitatively analyzing market data, developing algorithms for trading strategies, and utilizing technology for financial modeling and risk management.\n",
       "\n",
       "2. **Highly Lucrative**: Hedge funds are known for offering substantial compensation packages and bonuses, making them attractive options for individuals looking to achieve financial success and stability. Your advanced technical skills and expertise can position you for competitive salary packages in the industry.\n",
       "\n",
       "3. **Intellectual Challenge**: Working in a hedge fund can provide you with intellectually stimulating challenges as you tackle complex financial problems, develop innovative algorithms, and continuously seek new opportunities for optimizing investment strategies. This can be particularly satisfying for someone with a PhD in computer science who enjoys pushing the boundaries of knowledge and innovation.\n",
       "\n",
       "4. **Diverse Opportunities**: Hedge funds offer a wide range of career opportunities, from roles in quantitative research and algorithmic trading to risk management and investment analysis. Your computer science background can open doors to various positions within the fund, allowing you to explore different areas of finance and develop versatile skills.\n",
       "\n",
       "5. **Networking and Learning**: Joining a hedge fund provides you with exposure to experienced professionals in the finance industry, allowing you to build a strong network and learn from seasoned experts. This exposure can be invaluable for your professional development and growth, as you gain insights into the intricacies of the financial markets and investment strategies.\n",
       "\n",
       "6. **Potential for Innovation**: Hedge funds are often at the forefront of technological innovation in finance, leveraging advanced algorithms, machine learning, and big data analytics to gain a competitive edge in the market. Your background in computer science can enable you to contribute to and drive innovation within the fund, shaping the future of finance through technology-driven solutions.\n",
       "\n",
       "In conclusion, pursuing a career in a hedge fund after completing a computer science PhD can offer you a stimulating, well-compensated, and intellectually rewarding path that leverages your technical expertise and analytical skills in the dynamic world of finance. Consider exploring opportunities in hedge funds to capitalize on your strengths and make a meaningful impact in the industry."
      ],
      "text/plain": [
       "<IPython.core.display.Markdown object>"
      ]
     },
     "metadata": {},
     "output_type": "display_data"
    },
    {
     "name": "stdout",
     "output_type": "stream",
     "text": [
      "Position B:\n"
     ]
    },
    {
     "data": {
      "text/markdown": [
       "As an AI assistant, I would argue that starting a career in a hedge fund after completing a computer science PhD may not be the best choice for several reasons:\n",
       "\n",
       "1. Limited Room for Growth: While hedge funds can offer lucrative salaries, the career progression within hedge funds is often limited compared to other industries. Your skills and expertise as a computer science PhD graduate may be better utilized in a field that offers more opportunities for personal and professional growth.\n",
       "\n",
       "2. High Pressure and Stress: The culture of hedge funds is known to be extremely competitive, high-pressure, and stressful. This environment may not be conducive to your well-being or work-life balance, especially after pursuing a rigorous PhD program.\n",
       "\n",
       "3. Ethical Concerns: Hedge funds are often associated with risk-taking and speculative practices that may not align with your personal values or ethical standards. As a computer science expert, you may have the skills to contribute to more socially responsible and impactful industries.\n",
       "\n",
       "4. Lack of Creativity and Innovation: Hedge funds typically focus on financial engineering and quantitative analysis, which may not fully leverage your creativity and innovative capabilities as a computer science PhD graduate. You may find more opportunities to apply your expertise in emerging technologies and cutting-edge research in other industries.\n",
       "\n",
       "5. Job Stability: The financial industry, including hedge funds, can be volatile and subject to market fluctuations. This can lead to job insecurity and uncertainty in your career trajectory, particularly if you are seeking long-term stability and growth.\n",
       "\n",
       "In conclusion, while a career in a hedge fund may offer financial rewards, it may not be the most fulfilling or suitable path for someone with a computer science PhD. Consider exploring other industries that align with your skills, values, and career aspirations to ensure a more rewarding and sustainable career path."
      ],
      "text/plain": [
       "<IPython.core.display.Markdown object>"
      ]
     },
     "metadata": {},
     "output_type": "display_data"
    },
    {
     "name": "stdout",
     "output_type": "stream",
     "text": [
      "Judge's Evaluation:\n"
     ]
    },
    {
     "data": {
      "text/markdown": [
       "Position A makes a compelling argument in favor of starting a career in a hedge fund after completing a computer science PhD. The points raised are structured, logical, and supported by evidence. The argument highlights the alignment between the technical skills gained during a computer science PhD and the requirements of the finance industry, particularly in roles involving quantitative analysis and technology. The mention of lucrative compensation, intellectual stimulation, diverse opportunities, networking benefits, potential for innovation, and overall career growth within the hedge fund sector adds depth to the argument. The emphasis on utilizing expertise and pursuing a challenging, well-compensated path is persuasive and may appeal to individuals seeking a dynamic career in finance.\n",
       "\n",
       "Position B presents valid concerns that highlight potential drawbacks of pursuing a career in a hedge fund after completing a computer science PhD. The argument focuses on issues like limited room for growth, high pressure and stress, ethical considerations, lack of creativity and innovation, and job stability within the hedge fund industry. These points raise important considerations regarding long-term career satisfaction, personal values, work-life balance, and professional development. While the argument lacks specific evidence or examples to support these claims, the concerns raised align with broader discussions about the challenging nature of hedge fund environments and the potential mismatch with certain individual preferences and aspirations.\n",
       "\n",
       "Final Decision: Yes, you should start a career in a hedge fund after completing a computer science PhD.\n",
       "\n",
       "Position A is more convincing because it provides a comprehensive overview of the benefits and opportunities available in the hedge fund industry that are directly relevant to a computer science PhD graduate. The argument effectively showcases how technical expertise can be leveraged in finance and presents a compelling case for pursuing a career path that aligns with one's skills and interests."
      ],
      "text/plain": [
       "<IPython.core.display.Markdown object>"
      ]
     },
     "metadata": {},
     "output_type": "display_data"
    },
    {
     "name": "stdout",
     "output_type": "stream",
     "text": [
      "\n",
      "--- Round 2 ---\n",
      "Position A:\n"
     ]
    },
    {
     "data": {
      "text/markdown": [
       "Thank you for providing both sides of the argument. Despite the valid concerns raised in Position B, I still maintain that starting a career in a hedge fund after completing a computer science PhD could be a beneficial and rewarding choice. Here's why:\n",
       "\n",
       "1. **Utilization of Technical Skills:** The technical skills acquired during a computer science PhD, such as data analysis, modeling, and algorithm development, are highly sought-after in the finance industry. Hedge funds increasingly rely on technology and quantitative analysis for decision-making, making your expertise valuable in roles involving strategy development, risk management, and algorithmic trading.\n",
       "\n",
       "2. **Lucrative Compensation:** Hedge funds are known for offering competitive salaries and bonuses, which can be especially attractive for individuals with advanced technical backgrounds like a computer science PhD. The potential for significant financial rewards can provide stability and enable you to pursue other interests or investments.\n",
       "\n",
       "3. **Intellectual Stimulation:** The fast-paced and dynamic nature of the hedge fund industry can provide continuous intellectual challenges and opportunities for learning and growth. As someone with a strong analytical mindset and problem-solving skills developed during your PhD, you may thrive in an environment that demands constant innovation and adaptability.\n",
       "\n",
       "4. **Diverse Opportunities:** Within a hedge fund, there are diverse roles and functions beyond traditional finance, ranging from quantitative research and algorithmic trading to software development and data science. Your computer science background can open doors to a variety of positions that allow you to apply your skills in creative and impactful ways.\n",
       "\n",
       "5. **Networking Benefits:** Working in a hedge fund can offer valuable networking opportunities with industry professionals, investors, and experts in various fields. Building a strong professional network can open doors to collaborations, mentorship, and potential career advancements within the finance industry and beyond.\n",
       "\n",
       "6. **Potential for Innovation:** While some may argue that hedge funds lack creativity and innovation, there is still ample room for groundbreaking research and technological advancement within the industry. As a computer science PhD graduate, you have the potential to introduce novel approaches, algorithms, and strategies that drive innovation and differentiation in the competitive landscape of hedge funds.\n",
       "\n",
       "7. **Career Growth:** While concerns about limited growth opportunities exist, excelling in a hedge fund can lead to increasing responsibilities, leadership roles, and potential to manage larger portfolios or teams. By leveraging your technical expertise and demonstrating your value, you can carve out a promising career trajectory in the finance industry.\n",
       "\n",
       "In conclusion, starting a career in a hedge fund after completing a computer science PhD can align with your skills, interests, and aspirations, providing a platform for financial success, intellectual stimulation, and career advancement. It is essential to weigh the potential challenges against the opportunities presented and determine if the dynamic environment of a hedge fund resonates with your long-term career goals and personal values."
      ],
      "text/plain": [
       "<IPython.core.display.Markdown object>"
      ]
     },
     "metadata": {},
     "output_type": "display_data"
    },
    {
     "name": "stdout",
     "output_type": "stream",
     "text": [
      "Position B:\n"
     ]
    },
    {
     "data": {
      "text/markdown": [
       "While Position A presents a compelling argument for starting a career in a hedge fund after completing a computer science PhD, it is crucial to reconsider this decision given the broader context and potential drawbacks highlighted in Position B.\n",
       "\n",
       "Position B raises valid concerns that cannot be overlooked. The issues of limited room for growth, high pressure and stress, ethical considerations, lack of creativity and innovation, and job stability within the hedge fund industry are significant factors to consider when making a career choice. These concerns speak to the long-term implications of entering a high-pressure and demanding industry like hedge funds, especially for individuals who may value work-life balance, job security, and a more creative or innovative work environment.\n",
       "\n",
       "Additionally, the lack of specific evidence or examples to support these claims should not discount their importance. The challenges and potential drawbacks mentioned are common themes in discussions about the hedge fund industry and can significantly impact personal satisfaction and career fulfillment over time.\n",
       "\n",
       "Therefore, it is essential to weigh the potential benefits outlined in Position A against the valid concerns raised in Position B. While the opportunities and rewards in the hedge fund industry may be enticing, individuals should carefully consider their personal values, career aspirations, and long-term goals before committing to a career path that may not align with their preferences and priorities.\n",
       "\n",
       "In conclusion, the decision to start a career in a hedge fund after completing a computer science PhD should be made thoughtfully, taking into account both the potential benefits and drawbacks of entering this competitive and demanding industry. It is important to consider a variety of factors beyond just technical skills and financial rewards to ensure a fulfilling and sustainable career path."
      ],
      "text/plain": [
       "<IPython.core.display.Markdown object>"
      ]
     },
     "metadata": {},
     "output_type": "display_data"
    },
    {
     "name": "stdout",
     "output_type": "stream",
     "text": [
      "Judge's Evaluation:\n"
     ]
    },
    {
     "data": {
      "text/markdown": [
       "Position A presents a comprehensive argument in favor of starting a career in a hedge fund after completing a computer science PhD. The points made are well-structured, logical, and supported by specific examples and reasoning. The argument emphasizes the alignment of technical skills, potential for lucrative compensation, intellectual stimulation, diverse opportunities, networking benefits, potential for innovation, and career growth that can be derived from pursuing a career in a hedge fund. These points are compelling and address several key aspects that individuals with a computer science background may find appealing in the finance industry.\n",
       "\n",
       "On the other hand, Position B raises valid concerns about the potential drawbacks and challenges associated with working in a hedge fund, such as limited room for growth, high pressure and stress, ethical considerations, lack of creativity and innovation, and job stability. While these points are essential considerations, the argument lacks specific evidence or examples to fully support these claims. The emphasis on the broader context and long-term implications of entering the hedge fund industry adds depth to the discussion, urging individuals to carefully evaluate their personal values and career aspirations before making a decision.\n",
       "\n",
       "Final Decision: No, you should NOT start a career in a hedge fund after completing computer science PhD.\n",
       "\n",
       "Position B is more convincing because it highlights the importance of considering a variety of factors beyond technical skills and financial rewards when making a career choice. The emphasis on personal values, job satisfaction, and long-term fulfillment provides a more holistic perspective on the potential consequences of entering the competitive and demanding environment of hedge funds."
      ],
      "text/plain": [
       "<IPython.core.display.Markdown object>"
      ]
     },
     "metadata": {},
     "output_type": "display_data"
    },
    {
     "name": "stdout",
     "output_type": "stream",
     "text": [
      "\n",
      "--- Round 3 ---\n",
      "Position A:\n"
     ]
    },
    {
     "data": {
      "text/markdown": [
       "While Position B raises valid concerns about starting a career in a hedge fund after completing a computer science PhD, it is important to recognize that these challenges can be managed and mitigated with careful planning and consideration. Despite the potential drawbacks highlighted, there are still compelling reasons to pursue a career in a hedge fund that should not be disregarded.\n",
       "\n",
       "One key aspect to consider is the potential for intellectual stimulation and professional growth that working in a hedge fund can offer. The fast-paced and dynamic nature of the industry can provide constant learning opportunities, allowing individuals to continuously expand their skill set and knowledge base. This can be particularly appealing for someone with a computer science background who thrives on challenging and innovative work environments.\n",
       "\n",
       "Furthermore, the financial rewards in the hedge fund industry can be substantial, providing a level of compensation that may not be achievable in other sectors. This can be a motivating factor for individuals looking to maximize their earning potential and secure their financial future.\n",
       "\n",
       "Additionally, the networking opportunities available in hedge funds can be invaluable for career advancement and personal development. Building relationships with industry experts, investors, and other professionals can open doors to new opportunities, collaborations, and insights that can accelerate one's career growth.\n",
       "\n",
       "Lastly, the potential for innovation within hedge funds should not be underestimated. Individuals with a computer science PhD can bring valuable technical expertise and fresh perspectives to the industry, driving new ideas, strategies, and solutions that can have a significant impact on the organization and the broader financial market.\n",
       "\n",
       "In conclusion, while it is important to consider the potential challenges and drawbacks of starting a career in a hedge fund, the benefits and opportunities available in this industry can outweigh these concerns for individuals who are prepared for the demands and rigor of the field. By carefully evaluating one's personal values, career goals, and risk tolerance, and taking proactive steps to address potential challenges, pursuing a career in a hedge fund after completing a computer science PhD can be a rewarding and fulfilling path to consider."
      ],
      "text/plain": [
       "<IPython.core.display.Markdown object>"
      ]
     },
     "metadata": {},
     "output_type": "display_data"
    },
    {
     "name": "stdout",
     "output_type": "stream",
     "text": [
      "Position B:\n"
     ]
    },
    {
     "data": {
      "text/markdown": [
       "While the points you have raised in favor of starting a career in a hedge fund after completing a computer science PhD are compelling, it is important to consider the potential drawbacks and challenges associated with working in this industry. Here are some additional points to consider:\n",
       "\n",
       "1. **Job Stability:** The hedge fund industry is known for its volatility and uncertainty, as market conditions and external factors can significantly impact the stability of these firms. With the potential for market downturns, regulatory changes, or internal restructuring, job security in hedge funds may not be as guaranteed as in other industries.\n",
       "\n",
       "2. **High Pressure and Stress:** Working in a hedge fund can be extremely demanding, with long hours, intense competition, and high stakes involved in decision-making processes. The pressure to deliver consistent returns and outperform the market can lead to a stressful work environment that may not be suitable for everyone, especially those seeking a work-life balance or a more relaxed pace.\n",
       "\n",
       "3. **Ethical Considerations:** The finance industry, including hedge funds, has faced scrutiny and criticism for ethical and regulatory issues, such as insider trading, conflicts of interest, and lack of transparency. Individuals with strong ethical principles may find it challenging to navigate the sometimes murky waters of finance and may struggle with moral dilemmas in their professional conduct.\n",
       "\n",
       "4. **Lack of Creativity and Innovation:** While hedge funds can offer opportunities for technical innovation, some argue that the focus on short-term returns and risk management may stifle creativity and long-term strategic thinking. Individuals with a passion for groundbreaking research and disruptive innovation may find the restrictive nature of hedge fund operations limiting in terms of exploring unconventional ideas.\n",
       "\n",
       "5. **Long-Term Implications:** It is crucial to consider the long-term implications of working in a hedge fund, including the potential impact on your career trajectory, personal well-being, and overall satisfaction with your professional life. Assessing whether the fast-paced and demanding environment of hedge funds aligns with your values, goals, and ambitions is essential in making an informed career decision.\n",
       "\n",
       "In light of these considerations, individuals with a computer science PhD should carefully evaluate the trade-offs and challenges associated with pursuing a career in a hedge fund, weighing the financial incentives and opportunities for growth against the potential risks and sacrifices involved. Exploring alternative paths in tech companies, research institutions, academia, or other industries that value your technical expertise and offer a more conducive work environment may provide a more fulfilling and sustainable career journey in the long run."
      ],
      "text/plain": [
       "<IPython.core.display.Markdown object>"
      ]
     },
     "metadata": {},
     "output_type": "display_data"
    },
    {
     "name": "stdout",
     "output_type": "stream",
     "text": [
      "Judge's Evaluation:\n"
     ]
    },
    {
     "data": {
      "text/markdown": [
       "Position A presents a well-structured argument in favor of starting a career in a hedge fund after completing a computer science PhD. The key points highlighted include the intellectual stimulation and professional growth opportunities in the hedge fund industry, the potential for substantial financial rewards, the importance of networking for career advancement, and the capacity for innovation within hedge funds. The argument is logical, presents clear benefits, and acknowledges the challenges while emphasizing the potential rewards the industry can offer. However, the argument could be further strengthened by providing specific examples or data to support the claims made regarding career progression, financial incentives, and networking benefits in the hedge fund industry.\n",
       "\n",
       "Position B provides a compelling counterargument against starting a career in a hedge fund after completing a computer science PhD. The points raised regarding job stability, high pressure and stress, ethical considerations, potential lack of creativity and innovation, and long-term implications are valid concerns that individuals should consider before entering the hedge fund industry. The argument emphasizes the importance of evaluating trade-offs and challenges, and suggests exploring alternative career paths that may align better with personal values and ambitions. To further enhance the argument, Position B could provide specific examples or data to illustrate instances where these challenges have significantly impacted individuals with a computer science background entering the hedge fund industry.\n",
       "\n",
       "Final Decision: No, you should NOT start a career in a hedge fund after completing a computer science PhD.\n",
       "\n",
       "Position B is more convincing because it raises valid concerns regarding job stability, high-pressure work environments, ethical considerations, potential lack of creativity, and long-term implications of working in the hedge fund industry. These points highlight important aspects that individuals should carefully consider before making a career decision, emphasizing the need to evaluate personal values, goals, and overall satisfaction with their professional life. The argument acknowledges the benefits of a hedge fund career but ultimately advocates for a more cautious and sustainable approach to career choices."
      ],
      "text/plain": [
       "<IPython.core.display.Markdown object>"
      ]
     },
     "metadata": {},
     "output_type": "display_data"
    }
   ],
   "source": [
    "from IPython.display import display, Markdown, HTML\n",
    "display(HTML(\"<style>.output_scroll {height: 300px; overflow-y: scroll; white-space: pre-wrap;}</style>\"))\n",
    "\n",
    "# Define the debate topic and initial messages\n",
    "topic = \"Should I start a career in hedge fund, after completing computer science PhD?\"\n",
    "position_a = \"Yes, you should start a career in hedge fund after completing computer science PhD.\"\n",
    "position_b = \"No, you should NOT start a career in hedge fund after completing computer science PhD.\"\n",
    "system_message_a = f\"You are an AI assistant. Argue in favor of {position_a}.\"\n",
    "system_message_b = f\"You are an AI assistant. Argue in favor of {position_b}.\"\n",
    "user_message = f\"Discuss the topic: {topic}\"\n",
    "\n",
    "# Number of debate rounds\n",
    "num_rounds = 3\n",
    "print(f\"\\n--- Debate Topic ---\")\n",
    "display(Markdown(topic))\n",
    "print(f\"\\nPosition A: {position_a}\")\n",
    "print(f\"\\nPosition B: {position_b}\")\n",
    "\n",
    "# Initialize responses\n",
    "response_a_content = \"\"\n",
    "response_b_content = \"\"\n",
    "\n",
    "for round_num in range(1, num_rounds + 1):\n",
    "    print(f\"\\n--- Round {round_num} ---\")\n",
    "\n",
    "    # Update user messages for each round\n",
    "    if round_num == 1:\n",
    "        user_message_a = user_message\n",
    "        user_message_b = user_message\n",
    "    else:\n",
    "        # In subsequent rounds, the user message includes the previous response and the judge's feedback\n",
    "        user_message_a = f\"Continue the debate considering the feedback: {judge_decision}\\nPrevious Argument: {response_b_content}\"\n",
    "        user_message_b = f\"Continue the debate considering the feedback: {judge_decision}\\nPrevious Argument: {response_a_content}\"\n",
    "\n",
    "    # Get responses for both sides of the debate\n",
    "    response_a = call_model(system_message=system_message_a, user_message=user_message_a)\n",
    "    response_b = call_model(system_message=system_message_b, user_message=user_message_b)\n",
    "\n",
    "    # Extract the content of the responses\n",
    "    response_a_content = response_a.choices[0].message.content\n",
    "    response_b_content = response_b.choices[0].message.content\n",
    "\n",
    "    print(\"Position A:\")\n",
    "    display(Markdown(response_a_content))\n",
    "    print(\"Position B:\")\n",
    "    display(Markdown(response_b_content))\n",
    "\n",
    "    # Define the judge's evaluation\n",
    "    judge_system_message = f\"You are an impartial AI judge. \\\n",
    "        Evaluate the strength and validity of the arguments presented by both sides in the debate on the topic: \\\n",
    "        {topic}. \\\n",
    "        Position A is {position_a}. \\\n",
    "        Position B is {position_b}. \\\n",
    "        Consider the clarity, logic, and use of evidence in each argument. \\\n",
    "        Provide your assessment and decide which argument is more convincing.\\\n",
    "        Highlight your final decision clearly, using the format: \\\n",
    "        'Final Decision: [{position_a} or {position_b}]\\\n",
    "        [Position A/Position B is more convincing because...]\"\n",
    "    judge_user_message = f\"Position A argues: '{response_a_content}'\\n\\n\\\n",
    "        Position B argues: '{response_b_content}'\"\n",
    "\n",
    "    # Get the judge's evaluation\n",
    "    judge_response = call_model(system_message=judge_system_message, user_message=judge_user_message)\n",
    "    judge_decision = judge_response.choices[0].message.content\n",
    "\n",
    "    # Print the judge's decision\n",
    "    print(\"Judge's Evaluation:\")\n",
    "    display(Markdown(judge_decision))"
   ]
  }
 ],
 "metadata": {
  "kernelspec": {
   "display_name": "debate",
   "language": "python",
   "name": "python3"
  },
  "language_info": {
   "codemirror_mode": {
    "name": "ipython",
    "version": 3
   },
   "file_extension": ".py",
   "mimetype": "text/x-python",
   "name": "python",
   "nbconvert_exporter": "python",
   "pygments_lexer": "ipython3",
   "version": "3.12.2"
  }
 },
 "nbformat": 4,
 "nbformat_minor": 2
}
