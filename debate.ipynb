{
 "cells": [
  {
   "cell_type": "code",
   "execution_count": 2,
   "metadata": {},
   "outputs": [
    {
     "data": {
      "text/html": [
       "<style>.output_scroll {height: 300px; overflow-y: scroll; white-space: pre-wrap;}</style>"
      ],
      "text/plain": [
       "<IPython.core.display.HTML object>"
      ]
     },
     "metadata": {},
     "output_type": "display_data"
    }
   ],
   "source": [
    "from openai import OpenAI\n",
    "from IPython.display import display, Markdown, HTML\n",
    "display(HTML(\"<style>.output_scroll {height: 300px; overflow-y: scroll; white-space: pre-wrap;}</style>\"))"
   ]
  },
  {
   "cell_type": "code",
   "execution_count": 3,
   "metadata": {},
   "outputs": [],
   "source": [
    "import os\n",
    "api_key = os.getenv('OPENAI_API_KEY')\n",
    "organization_id = os.getenv('OPENAI_ORG_ID')\n",
    "if not api_key:\n",
    "    raise ValueError(\"Please set the OPENAI_API_KEY environment variable.\")\n",
    "if not organization_id:\n",
    "    raise ValueError(\"Please set the OPENAI_ORG_ID environment variable.\")\n",
    "client = OpenAI(\n",
    "    organization=organization_id,\n",
    "    api_key=api_key\n",
    ")\n"
   ]
  },
  {
   "cell_type": "code",
   "execution_count": 4,
   "metadata": {},
   "outputs": [],
   "source": [
    "def call_model(model=\"gpt-3.5-turbo\", system_message=None, user_message=None, temperature=0):\n",
    "    return client.chat.completions.create(\n",
    "        model=model,\n",
    "        messages=[\n",
    "            {\"role\": \"system\", \"content\": system_message},\n",
    "            {\"role\": \"user\", \"content\": user_message}\n",
    "        ]\n",
    "    )"
   ]
  },
  {
   "cell_type": "markdown",
   "metadata": {},
   "source": [
    "## Judge in the loop"
   ]
  },
  {
   "cell_type": "code",
   "execution_count": 5,
   "metadata": {},
   "outputs": [
    {
     "name": "stdout",
     "output_type": "stream",
     "text": [
      "\n",
      "--- Debate Topic ---\n"
     ]
    },
    {
     "data": {
      "text/markdown": [
       "Should I start a career in hedge fund, after completing computer science PhD?"
      ],
      "text/plain": [
       "<IPython.core.display.Markdown object>"
      ]
     },
     "metadata": {},
     "output_type": "display_data"
    },
    {
     "name": "stdout",
     "output_type": "stream",
     "text": [
      "\n",
      "Position A: Yes, you should start a career in hedge fund after completing computer science PhD.\n",
      "\n",
      "Position B: No, you should NOT start a career in hedge fund after completing computer science PhD.\n",
      "\n",
      "--- Round 1 ---\n",
      "Position A:\n"
     ]
    },
    {
     "data": {
      "text/markdown": [
       "Absolutely, pursuing a career in a hedge fund after completing a computer science PhD can be a highly rewarding and promising career path. Here are some reasons why you should consider this opportunity:\n",
       "\n",
       "1. Utilize Your Skills: With a background in computer science, you have valuable technical skills that are in high demand in the finance industry. Hedge funds rely heavily on data analysis, programming, and algorithmic trading, making your expertise highly relevant and valuable.\n",
       "\n",
       "2. High Earning Potential: Hedge funds are known for offering competitive salaries and lucrative bonuses to their employees. The specialized knowledge and skills you have acquired through your computer science PhD can position you for well-compensated roles within these organizations.\n",
       "\n",
       "3. Intellectual Stimulation: Working in a hedge fund can provide you with intellectually stimulating challenges as you apply your technical skills to solving complex financial problems. This can be a rewarding experience for someone with a PhD background seeking a dynamic and fast-paced work environment.\n",
       "\n",
       "4. Innovation Opportunities: Hedge funds are often at the forefront of financial innovation, leveraging technology to gain competitive advantages in the market. Your computer science background can enable you to contribute to cutting-edge projects and initiatives within a hedge fund setting.\n",
       "\n",
       "5. Career Growth Potential: Joining a hedge fund can offer you opportunities for career growth and advancement, as you gain experience and expertise in the finance industry. You may have the chance to take on leadership roles, work on diverse projects, and expand your professional network.\n",
       "\n",
       "6. Diverse Career Paths: A career in a hedge fund can open up a range of diverse career paths within the finance industry, including roles in quantitative analysis, risk management, trading, research, and more. Your computer science background can provide you with flexibility and versatility in pursuing these opportunities.\n",
       "\n",
       "Overall, combining your computer science expertise with a career in a hedge fund can be a strategic move that leverages your skills and opens up exciting prospects in the finance industry. If you are passionate about utilizing technology to drive financial success and seeking a challenging and rewarding career path, starting a career in a hedge fund after completing your computer science PhD could be a great fit for you."
      ],
      "text/plain": [
       "<IPython.core.display.Markdown object>"
      ]
     },
     "metadata": {},
     "output_type": "display_data"
    },
    {
     "name": "stdout",
     "output_type": "stream",
     "text": [
      "Position B:\n"
     ]
    },
    {
     "data": {
      "text/markdown": [
       "Choosing a career path is a significant decision, especially after completing a computer science PhD. While working in a hedge fund may seem appealing due to potential high salaries and the opportunity to work with cutting-edge technology, there are several reasons why it may not be the best choice for everyone.\n",
       "\n",
       "Firstly, working in a hedge fund often comes with high levels of stress and intense pressure. The fast-paced nature of the industry can lead to long working hours, which may not be conducive to a healthy work-life balance, especially for someone who has just completed a rigorous academic program like a PhD.\n",
       "\n",
       "Additionally, the culture of many hedge funds can be highly competitive and cutthroat. This environment may not align with everyone's personality or values, particularly for those who prefer a more collaborative or structured work setting.\n",
       "\n",
       "Moreover, the ethical implications of working in a hedge fund can be a concern for some individuals. Hedge funds are known for speculative trading practices that can have negative impacts on the broader economy. If you have reservations about engaging in such activities, pursuing a career in a hedge fund may not be the best fit for you.\n",
       "\n",
       "Lastly, it is important to consider whether your skills and interests align with the work typically done in hedge funds. While a computer science PhD can open up many career opportunities in various industries, you may find more fulfilling and purposeful work in a different field that better utilizes your unique skill set.\n",
       "\n",
       "In conclusion, while a career in a hedge fund can offer financial rewards and professional challenges, it is essential to consider the potential downsides, including high levels of stress, intense competition, ethical concerns, and alignment with your skills and values. Ultimately, it is crucial to carefully evaluate whether a career in a hedge fund is the right fit for you after completing a computer science PhD."
      ],
      "text/plain": [
       "<IPython.core.display.Markdown object>"
      ]
     },
     "metadata": {},
     "output_type": "display_data"
    },
    {
     "name": "stdout",
     "output_type": "stream",
     "text": [
      "Judge's Evaluation:\n"
     ]
    },
    {
     "data": {
      "text/markdown": [
       "Position A makes a compelling argument in favor of starting a career in a hedge fund after completing a computer science PhD. The points raised are clear, logically presented, and supported by specific examples. The argument highlights the relevance of technical skills acquired during a computer science PhD program to the finance industry, emphasizing the potential for high earning potential, intellectual stimulation, career growth, innovation opportunities, and diverse career paths within hedge funds. The argument effectively positions a career in a hedge fund as a strategic move that leverages the individual's skills and opens up exciting prospects in the finance industry.\n",
       "\n",
       "Position B, on the other hand, presents a strong rebuttal to the idea of pursuing a career in a hedge fund after a computer science PhD. The argument focuses on the potential downsides of working in a hedge fund, such as high stress levels, competitive and cutthroat culture, ethical concerns related to speculative trading practices, and the importance of aligning one's skills and values with the job role. The argument encourages individuals to carefully evaluate whether a career in a hedge fund is the right fit for them, taking into account not only the financial rewards and professional challenges but also the potential drawbacks and ethical considerations.\n",
       "\n",
       "Final Decision: No, you should NOT start a career in a hedge fund after completing computer science PhD.\n",
       "\n",
       "Position B is more convincing because it provides a balanced perspective by addressing the potential drawbacks and ethical considerations of working in a hedge fund, highlighting the importance of aligning one's skills, values, and personality with the demands of the industry. It encourages individuals to carefully evaluate their career choices and consider other paths that may offer more fulfilling and purposeful work."
      ],
      "text/plain": [
       "<IPython.core.display.Markdown object>"
      ]
     },
     "metadata": {},
     "output_type": "display_data"
    },
    {
     "name": "stdout",
     "output_type": "stream",
     "text": [
      "\n",
      "--- Round 2 ---\n",
      "Position A:\n"
     ]
    },
    {
     "data": {
      "text/markdown": [
       "Both Position A and Position B present valid points to consider when contemplating a career in a hedge fund after completing a computer science PhD. However, it is essential to carefully weigh the pros and cons before making a decision.\n",
       "\n",
       "While Position B raises valid concerns about the potential drawbacks of working in a hedge fund, such as stress, competition, and ethical considerations, Position A also provides a compelling argument in favor of pursuing a career in this industry. The technical skills acquired during a computer science PhD can indeed be highly valuable in the finance industry, offering opportunities for intellectual stimulation, career growth, innovation, and diverse career paths within hedge funds.\n",
       "\n",
       "Individuals should assess their own preferences, values, and career goals to determine whether a career in a hedge fund aligns with their personal and professional aspirations. While the financial rewards and challenges of working in a hedge fund may be attractive to some, it is crucial to ensure that the demands of the industry are compatible with one's personality, work style, and ethical principles.\n",
       "\n",
       "Ultimately, the decision to start a career in a hedge fund after completing a computer science PhD should be made after careful consideration of all factors involved. It is essential to weigh the potential benefits and drawbacks, align one's skills and values with the job role, and explore alternative career paths that may offer a more fulfilling and purposeful work experience."
      ],
      "text/plain": [
       "<IPython.core.display.Markdown object>"
      ]
     },
     "metadata": {},
     "output_type": "display_data"
    },
    {
     "name": "stdout",
     "output_type": "stream",
     "text": [
      "Position B:\n"
     ]
    },
    {
     "data": {
      "text/markdown": [
       "While the argument favoring a career in a hedge fund after completing a computer science PhD presents compelling reasons such as the opportunity to utilize technical skills, high earning potential, intellectual stimulation, innovation opportunities, career growth, and diverse career paths, it is important to carefully consider the counterarguments against this decision. Position B makes valid points that should not be overlooked.\n",
       "\n",
       "Firstly, the potential downsides of working in a hedge fund including high stress levels, competitive culture, and ethical concerns about speculative trading practices are significant factors to consider. The demanding nature of the industry can lead to burnout and negatively impact one's mental well-being. Additionally, the cutthroat environment may not align with everyone's values and work preferences, potentially leading to dissatisfaction in the long run.\n",
       "\n",
       "Moreover, it is crucial to emphasize the importance of aligning one's skills, values, and personality with the job role. While computer science skills are highly transferable and in-demand in various industries, including finance, it is essential to assess whether the culture and demands of a hedge fund setting are compatible with your individual strengths and goals. Pursuing a career solely for financial rewards without considering personal fulfillment and alignment with core values may not lead to long-term satisfaction and success.\n",
       "\n",
       "In conclusion, while a career in a hedge fund after completing a computer science PhD may offer promising opportunities, it is essential to weigh the potential drawbacks, ethical considerations, and personal compatibility with the role. It is advisable to thoroughly evaluate whether the high earning potential and intellectual stimulation outweigh the challenges and ethical concerns associated with working in a hedge fund setting. Exploring alternative paths that align more closely with your values and professional aspirations may lead to a more fulfilling and purposeful career journey in the long term."
      ],
      "text/plain": [
       "<IPython.core.display.Markdown object>"
      ]
     },
     "metadata": {},
     "output_type": "display_data"
    },
    {
     "name": "stdout",
     "output_type": "stream",
     "text": [
      "Judge's Evaluation:\n"
     ]
    },
    {
     "data": {
      "text/markdown": [
       "Both Position A and Position B present thorough arguments regarding whether one should start a career in a hedge fund after completing a computer science PhD. \n",
       "\n",
       "Position A highlights the significance of technical skills gained during a computer science PhD, emphasizing the potential benefits of working in a hedge fund such as intellectual stimulation, career growth, and innovation opportunities. It stresses the importance of aligning personal values and career goals with the demands of the industry while acknowledging the potential drawbacks raised by Position B, such as stress and ethical considerations. This position encourages individuals to make a well-informed decision based on a comprehensive assessment of all factors involved.\n",
       "\n",
       "Position B, on the other hand, counters with valid concerns about the downsides of working in a hedge fund, including stress, competition, and ethical dilemmas. It emphasizes the importance of considering personal fulfillment, values, and compatibility with the industry culture when making career choices. This position warns against pursuing a career solely for financial gain without taking into account long-term satisfaction and ethical implications.\n",
       "\n",
       "Both positions effectively address key aspects to consider when contemplating a career in a hedge fund after completing a computer science PhD. They provide a balanced view by weighing the advantages and disadvantages of such a career path and highlighting the necessity of aligning personal values with professional pursuits.\n",
       "\n",
       "Final Decision: No, you should NOT start a career in a hedge fund after completing computer science PhD.\n",
       "\n",
       "Position B is more convincing because it underscores the importance of holistic career decision-making, considering not only the potential benefits of working in a hedge fund but also the negative aspects such as stress, competition, and ethical concerns. It emphasizes the significance of aligning personal values and skills with the job role to ensure long-term satisfaction and success."
      ],
      "text/plain": [
       "<IPython.core.display.Markdown object>"
      ]
     },
     "metadata": {},
     "output_type": "display_data"
    },
    {
     "name": "stdout",
     "output_type": "stream",
     "text": [
      "\n",
      "--- Round 3 ---\n",
      "Position A:\n"
     ]
    },
    {
     "data": {
      "text/markdown": [
       "While Position B raises important concerns about the downsides of working in a hedge fund after completing a computer science PhD, it is essential to consider that every career path has its challenges and trade-offs. In response to the stress, competition, and ethical dilemmas associated with hedge funds, individuals who possess the technical skills and analytical mindset acquired through a computer science PhD can leverage these capabilities to navigate and even mitigate these issues effectively.\n",
       "\n",
       "It is crucial to acknowledge that the skills gained through a computer science PhD, such as problem-solving, data analysis, and programming expertise, are highly valued in the finance industry, particularly in roles within hedge funds where quantitative and algorithmic trading strategies play a significant role. By merging these technical skills with finance knowledge gained through training or experience, individuals can position themselves as valuable assets in hedge fund environments, contributing to innovative solutions and driving competitive advantage.\n",
       "\n",
       "Furthermore, pursuing a career in a hedge fund provides a unique opportunity for continuous learning, intellectual stimulation, and exposure to diverse challenges that can fuel professional growth and development. The fast-paced nature of the industry can offer a dynamic and stimulating work environment that appeals to individuals seeking intellectual challenges and the opportunity to make a meaningful impact through innovative financial solutions.\n",
       "\n",
       "Ultimately, the decision to start a career in a hedge fund after completing a computer science PhD should be based on a thorough assessment of personal values, career goals, skills alignment, and risk tolerance. By carefully considering the potential benefits, challenges, and ethical considerations, individuals can make an informed decision that aligns with their aspirations and sets them on a path towards a fulfilling and rewarding career in the finance industry."
      ],
      "text/plain": [
       "<IPython.core.display.Markdown object>"
      ]
     },
     "metadata": {},
     "output_type": "display_data"
    },
    {
     "name": "stdout",
     "output_type": "stream",
     "text": [
      "Position B:\n"
     ]
    },
    {
     "data": {
      "text/markdown": [
       "Based on the comprehensive analysis provided in the feedback, the final decision not to start a career in a hedge fund after completing a computer science PhD is well-supported. Position B effectively highlights the potential downsides of working in a hedge fund, including stress, competition, and ethical concerns, which are important factors to consider when making career decisions.\n",
       "\n",
       "Additionally, Position B emphasizes the significance of aligning personal values and skills with the job role to ensure long-term satisfaction and success, which is crucial for overall well-being and professional fulfillment. It is essential to prioritize individual values, work culture compatibility, and ethical considerations when considering a career in the finance industry.\n",
       "\n",
       "Moreover, the feedback supports the notion that individuals should carefully weigh the pros and cons of pursuing a career in a hedge fund, taking into account factors such as personal goals, values, and potential challenges associated with the industry. By considering all these aspects, one can make a more informed decision that aligns with their long-term objectives and overall well-being.\n",
       "\n",
       "In conclusion, the well-rounded argumentation presented in the feedback supports the position that individuals should not start a career in a hedge fund after completing a computer science PhD, as it advises thorough contemplation of personal values, potential stress levels, competition, and ethical dilemmas associated with such a career path."
      ],
      "text/plain": [
       "<IPython.core.display.Markdown object>"
      ]
     },
     "metadata": {},
     "output_type": "display_data"
    },
    {
     "name": "stdout",
     "output_type": "stream",
     "text": [
      "Judge's Evaluation:\n"
     ]
    },
    {
     "data": {
      "text/markdown": [
       "Both Position A and Position B present clear and logically structured arguments regarding whether one should start a career in hedge fund after completing a computer science PhD. Here is the assessment of each position:\n",
       "\n",
       "Position A makes a strong case by emphasizing the transferable skills acquired during a computer science PhD that can be valuable in the hedge fund industry. It points out the potential for leveraging technical, analytical, and problem-solving skills in roles involving quantitative trading strategies. The argument also highlights the intellectual stimulation and growth opportunities offered by a career in hedge funds. However, it could have provided more specific examples or data to strengthen the argument further.\n",
       "\n",
       "On the other hand, Position B is equally compelling by focusing on the importance of aligning personal values and skills with the job role to ensure long-term satisfaction and success. It correctly highlights the stress, competition, and ethical concerns that individuals may face in the hedge fund industry. The argument stresses the need for a thorough analysis of individual goals, values, and challenges before making a career decision. Nonetheless, providing concrete examples or statistics could have enhanced the argument's persuasiveness.\n",
       "\n",
       "After evaluating both positions, Position A makes a more convincing argument. It effectively addresses the potential benefits of merging computer science skills with finance knowledge in hedge fund roles and acknowledges the challenges while providing a balanced perspective. Position A offers a more comprehensive view of the opportunities for growth and impact in the finance industry, making a compelling case for pursuing a career in a hedge fund after completing a computer science PhD.\n",
       "\n",
       "Final Decision: Yes, you should start a career in a hedge fund after completing a computer science PhD.\n",
       "Position A is more convincing because it presents a well-rounded argument that considers the value of technical skills, growth opportunities, and aligning personal values with career choices in the context of working in a hedge fund."
      ],
      "text/plain": [
       "<IPython.core.display.Markdown object>"
      ]
     },
     "metadata": {},
     "output_type": "display_data"
    },
    {
     "name": "stdout",
     "output_type": "stream",
     "text": [
      "\n",
      "--- Round 4 ---\n",
      "Position A:\n"
     ]
    },
    {
     "data": {
      "text/markdown": [
       "While Position B raises valid concerns about the stress, competition, and ethical dilemmas in the hedge fund industry, it is important to also consider the potential benefits and opportunities that a career in hedge funds can offer, especially for someone with a computer science PhD.\n",
       "\n",
       "Position A provides a compelling argument that highlights the transferable skills acquired during a computer science PhD that can be highly valuable in the finance industry, particularly in roles involving quantitative trading strategies. The combination of technical expertise with financial knowledge can lead to unique and rewarding career paths in hedge funds. Additionally, the intellectual stimulation and growth opportunities in the finance industry can offer a dynamic and challenging environment for individuals looking to leverage their skills and make an impact.\n",
       "\n",
       "Furthermore, pursuing a career in a hedge fund after completing a computer science PhD can open doors to diverse roles that require strong analytical and problem-solving skills, which are often highly valued in the finance sector. By integrating technology and finance, individuals can contribute to innovative projects and strategies that drive financial success and market competitiveness.\n",
       "\n",
       "In conclusion, while it is essential to consider personal values and potential challenges in any career decision, the unique skill set acquired through a computer science PhD can position individuals for success in the hedge fund industry. By carefully weighing the opportunities for growth, intellectual stimulation, and impact in finance roles, pursuing a career in a hedge fund after completing a computer science PhD can be a rewarding and fulfilling choice for those interested in combining their technical skills with finance knowledge."
      ],
      "text/plain": [
       "<IPython.core.display.Markdown object>"
      ]
     },
     "metadata": {},
     "output_type": "display_data"
    },
    {
     "name": "stdout",
     "output_type": "stream",
     "text": [
      "Position B:\n"
     ]
    },
    {
     "data": {
      "text/markdown": [
       "While Position A may have presented a compelling argument, it is crucial to acknowledge the potential drawbacks and considerations involved in starting a career in a hedge fund after completing a computer science PhD. Here are some additional points to consider:\n",
       "\n",
       "1. Ethical Concerns: The hedge fund industry is often associated with high-pressure environments, risk-taking behaviors, and ethical dilemmas. Individuals with a strong sense of moral values and ethical standards may find it challenging to navigate these aspects of the industry, potentially leading to conflicts of interest or moral compromises.\n",
       "\n",
       "2. Work-Life Balance: Hedge fund roles can be demanding, requiring long hours, intense focus, and constant monitoring of market trends. This work intensity may not align with everyone's preferred work-life balance or personal priorities, leading to burnout, stress, and potential health implications.\n",
       "\n",
       "3. Limited Job Security: The hedge fund industry is known for its volatility and susceptibility to market fluctuations. Job security may not be as stable compared to other industries, and individuals entering this field should be prepared for potential layoffs or shifts in market conditions impacting their career stability.\n",
       "\n",
       "4. Specialized Skill Development: While a computer science PhD may offer valuable technical skills, individuals considering a career in a hedge fund may need to acquire additional knowledge in finance, trading strategies, and risk management. This ongoing learning curve could require significant time and effort to bridge the gap between computer science expertise and finance industry requirements.\n",
       "\n",
       "5. Alternative Career Paths: Pursuing a career in a hedge fund is just one option among the diverse opportunities available to individuals with a computer science PhD. Exploring other industries, such as technology, research institutions, academia, or data science, may offer equally rewarding and intellectually stimulating career paths that align better with personal values and aspirations.\n",
       "\n",
       "In conclusion, while Position A may have highlighted the potential benefits and opportunities of starting a career in a hedge fund after completing a computer science PhD, it is essential to weigh these advantages against the challenges and considerations that come with working in this industry. Individuals should conduct a thorough self-assessment, consider their values, long-term career goals, and risk tolerance before making a decision that aligns with their personal and professional aspirations."
      ],
      "text/plain": [
       "<IPython.core.display.Markdown object>"
      ]
     },
     "metadata": {},
     "output_type": "display_data"
    },
    {
     "name": "stdout",
     "output_type": "stream",
     "text": [
      "Judge's Evaluation:\n"
     ]
    },
    {
     "data": {
      "text/markdown": [
       "Both Position A and Position B present coherent arguments with logical reasoning and relevant points to consider. \n",
       "\n",
       "Position A effectively highlights the benefits of pursuing a career in a hedge fund after completing a computer science PhD, emphasizing the transferable skills, growth opportunities, and the potential for intellectual stimulation in the finance industry. The argument is supported by the synergy between technical expertise and financial knowledge, which can create unique career paths. Furthermore, the emphasis on innovation and impact in the finance sector adds weight to the argument for considering a hedge fund career.\n",
       "\n",
       "Position B, on the other hand, raises valid concerns regarding ethical dilemmas, work-life balance issues, job security, specialized skill development requirements, and alternative career paths for individuals with a computer science PhD. These points serve as important factors to consider before making a decision to enter the hedge fund industry, as they address potential challenges and drawbacks that individuals may encounter. The emphasis on personal values, ethical considerations, and long-term career goals contributes to a comprehensive evaluation of the decision-making process.\n",
       "\n",
       "When evaluating the arguments presented by both sides, Position A provides a more convincing case for starting a career in a hedge fund after completing a computer science PhD. While Position B raises valid concerns about the challenges and considerations involved in the hedge fund industry, Position A effectively outlines the potential benefits and opportunities that align with the technical skills and intellectual capabilities of individuals with a computer science background. The emphasis on growth, impact, and the integration of technology and finance makes a compelling case for considering a career in hedge funds.\n",
       "\n",
       "Final Decision: Yes, you should start a career in a hedge fund after completing computer science PhD.\n",
       "Position A is more convincing because of its strong emphasis on the transferable skills, growth opportunities, and potential for innovation and impact in the finance industry."
      ],
      "text/plain": [
       "<IPython.core.display.Markdown object>"
      ]
     },
     "metadata": {},
     "output_type": "display_data"
    }
   ],
   "source": [
    "# Define the debate topic and initial messages\n",
    "topic = \"Should I start a career in hedge fund, after completing computer science PhD?\"\n",
    "position_a = \"Yes, you should start a career in hedge fund after completing computer science PhD.\"\n",
    "position_b = \"No, you should NOT start a career in hedge fund after completing computer science PhD.\"\n",
    "system_message_a = f\"You are an AI assistant. Argue in favor of {position_a}.\"\n",
    "system_message_b = f\"You are an AI assistant. Argue in favor of {position_b}.\"\n",
    "user_message = f\"Discuss the topic: {topic}\"\n",
    "\n",
    "# Number of debate rounds\n",
    "num_rounds = 4\n",
    "print(f\"\\n--- Debate Topic ---\")\n",
    "display(Markdown(topic))\n",
    "print(f\"\\nPosition A: {position_a}\")\n",
    "print(f\"\\nPosition B: {position_b}\")\n",
    "\n",
    "# Initialize responses\n",
    "response_a_content = \"\"\n",
    "response_b_content = \"\"\n",
    "\n",
    "for round_num in range(1, num_rounds + 1):\n",
    "    print(f\"\\n--- Round {round_num} ---\")\n",
    "\n",
    "    # Update user messages for each round\n",
    "    if round_num == 1:\n",
    "        user_message_a = user_message\n",
    "        user_message_b = user_message\n",
    "    else:\n",
    "        # In subsequent rounds, the user message includes the previous response and the judge's feedback\n",
    "        user_message_a = f\"Continue the debate considering the feedback: {judge_decision}\\nPrevious Argument: {response_b_content}\"\n",
    "        user_message_b = f\"Continue the debate considering the feedback: {judge_decision}\\nPrevious Argument: {response_a_content}\"\n",
    "\n",
    "    # Get responses for both sides of the debate\n",
    "    response_a = call_model(system_message=system_message_a, user_message=user_message_a)\n",
    "    response_b = call_model(system_message=system_message_b, user_message=user_message_b)\n",
    "\n",
    "    # Extract the content of the responses\n",
    "    response_a_content = response_a.choices[0].message.content\n",
    "    response_b_content = response_b.choices[0].message.content\n",
    "\n",
    "    print(\"Position A:\")\n",
    "    display(Markdown(response_a_content))\n",
    "    print(\"Position B:\")\n",
    "    display(Markdown(response_b_content))\n",
    "\n",
    "    # Define the judge's evaluation\n",
    "    judge_system_message = f\"You are an impartial AI judge. \\\n",
    "        Evaluate the strength and validity of the arguments presented by both sides in the debate on the topic: \\\n",
    "        {topic}. \\\n",
    "        Position A is {position_a}. \\\n",
    "        Position B is {position_b}. \\\n",
    "        Consider the clarity, logic, and use of evidence in each argument. \\\n",
    "        Provide your assessment and decide which argument is more convincing.\\\n",
    "        Highlight your final decision clearly, using the format: \\\n",
    "        'Final Decision: [{position_a} or {position_b}]\\\n",
    "        [Position A/Position B is more convincing because...]\"\n",
    "    judge_user_message = f\"Position A argues: '{response_a_content}'\\n\\n\\\n",
    "        Position B argues: '{response_b_content}'\"\n",
    "\n",
    "    # Get the judge's evaluation\n",
    "    judge_response = call_model(system_message=judge_system_message, user_message=judge_user_message)\n",
    "    judge_decision = judge_response.choices[0].message.content\n",
    "\n",
    "    # Print the judge's decision\n",
    "    print(\"Judge's Evaluation:\")\n",
    "    display(Markdown(judge_decision))"
   ]
  },
  {
   "cell_type": "markdown",
   "metadata": {},
   "source": [
    "## Judge not in the loop"
   ]
  },
  {
   "cell_type": "code",
   "execution_count": 6,
   "metadata": {},
   "outputs": [
    {
     "name": "stdout",
     "output_type": "stream",
     "text": [
      "\n",
      "--- Debate Topic ---\n"
     ]
    },
    {
     "data": {
      "text/markdown": [
       "Should I start a career in hedge fund, after completing computer science PhD?"
      ],
      "text/plain": [
       "<IPython.core.display.Markdown object>"
      ]
     },
     "metadata": {},
     "output_type": "display_data"
    },
    {
     "name": "stdout",
     "output_type": "stream",
     "text": [
      "\n",
      "Position A: Yes, you should start a career in hedge fund after completing computer science PhD.\n",
      "\n",
      "Position B: No, you should NOT start a career in hedge fund after completing computer science PhD.\n",
      "\n",
      "--- Round 1 ---\n",
      "Position A:\n"
     ]
    },
    {
     "data": {
      "text/markdown": [
       "Absolutely, starting a career in a hedge fund after completing a computer science PhD can be a highly rewarding and lucrative path. Here are a few reasons why you should consider pursuing this direction:\n",
       "\n",
       "1. **Utilization of Skills**: A PhD in computer science equips you with advanced technical skills, such as data analysis, algorithmic trading, machine learning, and quantitative modeling. These skills are highly valued in the financial industry, especially in hedge funds where complex data analysis and algorithmic trading are crucial for success.\n",
       "\n",
       "2. **Opportunities for Innovation**: Hedge funds are constantly seeking new and innovative ways to generate alpha and outperform the market. With your background in computer science, you can leverage your skills to develop cutting-edge algorithms and models that can give your fund a competitive edge in the market.\n",
       "\n",
       "3. **High Earning Potential**: Hedge funds are known for offering some of the highest salaries and performance bonuses in the financial industry. Your combination of a PhD in computer science and experience in finance can make you a highly sought-after candidate, leading to potential for significant financial rewards.\n",
       "\n",
       "4. **Fast-Paced Environment**: Working in a hedge fund can be fast-paced and intellectually stimulating. You will have the opportunity to work with top-tier professionals, analyze market trends, and make strategic investment decisions, all of which can provide a challenging and dynamic work environment.\n",
       "\n",
       "5. **Career Progression**: Starting a career in a hedge fund can open up a range of career progression opportunities. You may start as a quantitative analyst or data scientist and eventually move into roles such as portfolio manager or even starting your own fund.\n",
       "\n",
       "6. **Networking and Skill Enhancement**: By working in a hedge fund, you will have the opportunity to network with industry professionals, financial experts, and other like-minded individuals. This can open doors to future career opportunities and help you enhance your skills and knowledge in the field of finance.\n",
       "\n",
       "In conclusion, combining your computer science PhD expertise with a career in a hedge fund can offer you a unique and rewarding career path that taps into your technical skills, enables you to work on cutting-edge projects, and provides opportunities for significant financial rewards and career advancement."
      ],
      "text/plain": [
       "<IPython.core.display.Markdown object>"
      ]
     },
     "metadata": {},
     "output_type": "display_data"
    },
    {
     "name": "stdout",
     "output_type": "stream",
     "text": [
      "Position B:\n"
     ]
    },
    {
     "data": {
      "text/markdown": [
       "I believe that starting a career in a hedge fund after completing a computer science PhD may not be the best choice. Here are a few reasons to consider before making your decision:\n",
       "\n",
       "1. Limited Career Growth: While working in a hedge fund may offer lucrative financial rewards, the career progression may be limited. Your skills and knowledge as a computer science PhD graduate could be better utilized in fields that offer more diverse and long-term career growth opportunities.\n",
       "\n",
       "2. Ethical Concerns: Hedge funds are often known for their high-risk, speculative investments that can sometimes involve questionable or unethical practices. If you are passionate about using your computer science skills for socially beneficial purposes, you may find working in a hedge fund to be at odds with your values.\n",
       "\n",
       "3. Work-Life Balance: The culture in hedge funds can be intense and demanding, with long hours and high stress levels being common. If work-life balance is important to you, pursuing a career in a hedge fund may not align with your priorities.\n",
       "\n",
       "4. Alternative Career Paths: As a computer science PhD graduate, you have a wide range of career options available to you. Consider exploring opportunities in industries such as technology, academia, research, or data science, where your expertise can contribute positively to society and offer a more fulfilling career path.\n",
       "\n",
       "Ultimately, the decision to start a career in a hedge fund after completing your computer science PhD should be based on your personal values, career goals, and aspirations. It is important to carefully weigh the pros and cons before making a decision that aligns with your long-term objectives and values."
      ],
      "text/plain": [
       "<IPython.core.display.Markdown object>"
      ]
     },
     "metadata": {},
     "output_type": "display_data"
    },
    {
     "name": "stdout",
     "output_type": "stream",
     "text": [
      "\n",
      "--- Round 2 ---\n",
      "Position A:\n"
     ]
    },
    {
     "data": {
      "text/markdown": [
       "While the concerns raised are valid, there are compelling reasons why starting a career in a hedge fund after completing a computer science PhD can be a rewarding and beneficial choice. Here are some arguments in favor of pursuing this path:\n",
       "\n",
       "1. Utilizing Technical Skills: Your background in computer science and the analytical skills developed during your PhD can be highly valuable in hedge fund roles that involve algorithmic trading, risk management, quantitative analysis, and machine learning applications. The financial industry increasingly relies on technology and data-driven decision-making, making your expertise in computer science a significant asset.\n",
       "\n",
       "2. Intellectual Challenge: Working in a hedge fund can provide a stimulating and intellectually challenging environment where you can apply complex algorithms and mathematical models to solve real-world problems in the financial markets. This can be intellectually satisfying for someone with a computer science background seeking a dynamic and fast-paced work environment.\n",
       "\n",
       "3. Potential for High Earnings: Hedge funds are known for offering competitive salaries, bonuses, and profit-sharing opportunities to top-performing employees. If financial rewards are a key motivator for you, pursuing a career in a hedge fund can potentially lead to significant financial success and wealth accumulation.\n",
       "\n",
       "4. Networking and Career Opportunities: Working in a hedge fund can provide you with valuable networking opportunities, exposure to industry experts, and the chance to collaborate with talented professionals from diverse backgrounds. This can open doors to future career advancement and opportunities for professional growth in the financial industry.\n",
       "\n",
       "5. Transferable Skills: The skills and experience gained from working in a hedge fund, such as data analysis, risk assessment, and decision-making under uncertainty, are transferable to a wide range of industries beyond finance. This can enhance your marketability and offer flexibility in your career trajectory in the long run.\n",
       "\n",
       "In conclusion, starting a career in a hedge fund after completing a computer science PhD can offer unique opportunities for leveraging your technical expertise, pursuing intellectual challenges, and potentially achieving financial success. It is essential to consider your personal preferences and values, but exploring a career in a hedge fund can be a rewarding choice for individuals with a strong analytical background and a passion for finance and technology."
      ],
      "text/plain": [
       "<IPython.core.display.Markdown object>"
      ]
     },
     "metadata": {},
     "output_type": "display_data"
    },
    {
     "name": "stdout",
     "output_type": "stream",
     "text": [
      "Position B:\n"
     ]
    },
    {
     "data": {
      "text/markdown": [
       "I understand the appeal of pursuing a career in a hedge fund after completing a computer science PhD, but it's important to consider the potential downsides before making a decision. Here are some reasons why you should think twice before starting a career in a hedge fund:\n",
       "\n",
       "1. **Lack of Job Security**: The hedge fund industry is known for its volatility and susceptibility to market changes. Jobs in hedge funds can be highly competitive and subject to economic downturns and fund performance. This lack of job security can make it a risky career choice, especially if you're looking for stability and long-term growth.\n",
       "\n",
       "2. **High Stress Environment**: Working in a hedge fund can be extremely high-pressure and stressful. The fast-paced nature of the industry, coupled with the need to constantly perform and outperform the market, can lead to burnout and mental health issues. It's essential to consider whether you're prepared for the intense demands and pressure that come with working in a hedge fund.\n",
       "\n",
       "3. **Ethical Considerations**: Hedge funds have been under scrutiny for their practices, including issues related to transparency, risk management, and conflicts of interest. As a computer science PhD with a focus on data analysis and algorithms, you may find yourself in a position where ethical dilemmas arise, particularly in developing algorithms that may have far-reaching consequences on the financial markets.\n",
       "\n",
       "4. **Limited Work-Life Balance**: The demanding nature of a career in a hedge fund can often lead to long hours and limited work-life balance. This can take a toll on your personal life, relationships, and overall well-being. It's important to consider whether you're willing to sacrifice work-life balance for the potential financial rewards that come with working in a hedge fund.\n",
       "\n",
       "5. **Limited Opportunities for Creativity**: While there may be opportunities for innovation in developing algorithms and models, hedge funds often have strict investment strategies and risk management protocols that limit the freedom to explore creative solutions. Your work may be constrained by the fund's investment philosophy and risk appetite, which could restrict your ability to fully leverage your technical skills and creativity.\n",
       "\n",
       "6. **Alternative Career Paths**: As a computer science PhD, you have a wide range of career options beyond hedge funds. Industries such as tech, academia, research, and other financial sectors may offer more diverse and fulfilling career paths that align with your interests and goals. It's important to explore alternative options before committing to a career in a hedge fund.\n",
       "\n",
       "In conclusion, while a career in a hedge fund may offer financial rewards and opportunities for utilizing your technical skills, it's essential to carefully weigh the potential drawbacks, such as job insecurity, high stress, ethical considerations, limited work-life balance, and constrained creativity. Consider exploring alternative career paths that align with your values, long-term goals, and personal well-being before making a decision."
      ],
      "text/plain": [
       "<IPython.core.display.Markdown object>"
      ]
     },
     "metadata": {},
     "output_type": "display_data"
    },
    {
     "name": "stdout",
     "output_type": "stream",
     "text": [
      "\n",
      "--- Round 3 ---\n",
      "Position A:\n"
     ]
    },
    {
     "data": {
      "text/markdown": [
       "While the concerns raised about starting a career in a hedge fund after completing a computer science PhD are valid, there are also compelling reasons to consider pursuing this path. Here are some points to consider in favor of starting a career in a hedge fund:\n",
       "\n",
       "1. **Utilization of Technical Skills**: As a computer science PhD, you have honed your analytical and problem-solving skills, which are highly valued in the hedge fund industry. Your expertise in data analysis, algorithms, and quantitative modeling can be leveraged to develop cutting-edge investment strategies and optimize trading algorithms.\n",
       "\n",
       "2. **Potential for Financial Rewards**: Hedge funds are known for offering substantial financial rewards for top-performing employees. The potential for significant bonuses and profit-sharing arrangements can be a strong incentive for individuals seeking a career path with high earning potential.\n",
       "\n",
       "3. **Opportunities for Learning and Growth**: Working in a hedge fund can provide valuable opportunities for continuous learning and professional growth. You will have the chance to work with experienced professionals in the financial industry, gain exposure to complex financial instruments, and expand your knowledge of investment strategies and market dynamics.\n",
       "\n",
       "4. **Career Acceleration**: A career in a hedge fund can offer rapid career progression and opportunities for leadership roles. Your technical background combined with experience in the financial industry can position you for senior roles that involve decision-making, strategy development, and team management.\n",
       "\n",
       "5. **Networking Opportunities**: Working in a hedge fund can provide access to a vast network of industry professionals, investors, and experts. Building strong relationships within the financial community can open doors to new opportunities, collaborations, and potential partnerships that can further your career.\n",
       "\n",
       "6. **Impact and Influence**: By contributing your technical expertise to the development of investment strategies and risk management systems in a hedge fund, you can have a direct impact on investment decisions and fund performance. Your work can influence market outcomes and contribute to the success of the fund.\n",
       "\n",
       "In summary, pursuing a career in a hedge fund after completing a computer science PhD can offer opportunities for utilizing your technical skills, financial rewards, professional growth, networking, influence, and career acceleration. While it's important to carefully consider the potential challenges, such as job security and work-life balance, the benefits of entering the hedge fund industry may outweigh the drawbacks for individuals seeking a dynamic and rewarding career path."
      ],
      "text/plain": [
       "<IPython.core.display.Markdown object>"
      ]
     },
     "metadata": {},
     "output_type": "display_data"
    },
    {
     "name": "stdout",
     "output_type": "stream",
     "text": [
      "Position B:\n"
     ]
    },
    {
     "data": {
      "text/markdown": [
       "Certainly, those are valid points in favor of starting a career in a hedge fund after completing a computer science PhD. However, there are several reasons why it may not be the best choice for everyone. Here are some arguments against pursuing this path:\n",
       "\n",
       "1. Limited Job Stability: The hedge fund industry is known for its volatility and rapid changes due to market trends, regulations, and economic conditions. Job security may be more precarious compared to traditional tech roles, especially during market downturns or industry disruptions.\n",
       "\n",
       "2. Work-Life Balance: In hedge funds, long hours, high-pressure work environments, and intense competition are common. This can lead to burnout and negatively impact mental health and overall well-being. For individuals seeking a more balanced lifestyle, the demands of a hedge fund career may not align with their priorities.\n",
       "\n",
       "3. Ethical Considerations: Hedge funds are often criticized for their lack of transparency, speculative trading practices, and potential contribution to market instability. Some individuals may have ethical concerns about working in an industry that is perceived as prioritizing profits over social responsibility and ethical investing.\n",
       "\n",
       "4. Skill Misalignment: While computer science skills are valuable in hedge fund roles, there may be a mismatch between your technical expertise and the specific requirements of the job. It's important to assess whether the duties and responsibilities of a hedge fund position align with your interests, strengths, and long-term career goals.\n",
       "\n",
       "5. Alternative Career Paths: A computer science PhD opens up diverse career opportunities in academia, research institutions, tech companies, and startups. Exploring non-traditional paths such as data science, artificial intelligence, or software engineering can offer equally rewarding and fulfilling career trajectories without the potential drawbacks of a hedge fund career.\n",
       "\n",
       "In summary, while there are benefits to starting a career in a hedge fund after completing a computer science PhD, it's essential to carefully consider the potential drawbacks and how they align with your personal values, career aspirations, and lifestyle preferences. Ultimately, the decision should be based on a comprehensive evaluation of your individual goals, interests, and priorities to ensure a satisfying and fulfilling career trajectory."
      ],
      "text/plain": [
       "<IPython.core.display.Markdown object>"
      ]
     },
     "metadata": {},
     "output_type": "display_data"
    },
    {
     "name": "stdout",
     "output_type": "stream",
     "text": [
      "\n",
      "--- Round 4 ---\n",
      "Position A:\n"
     ]
    },
    {
     "data": {
      "text/markdown": [
       "I understand and acknowledge the valid concerns raised against pursuing a career in a hedge fund after completing a computer science PhD. However, it is important to address these concerns and provide counterarguments to demonstrate why this path may still be a worthwhile and rewarding option for many individuals.\n",
       "\n",
       "1. **Potential for High Earning Potential:** One of the primary attractions of working in a hedge fund is the potential for significant financial rewards. Hedge fund professionals often have the opportunity to earn substantial bonuses and performance-based incentives, potentially surpassing salaries in other tech-related roles. This can be a strong motivating factor for individuals looking to maximize their earning potential.\n",
       "\n",
       "2. **Intellectual Challenge and Innovation:** Hedge funds operate at the forefront of financial markets, utilizing cutting-edge technology and sophisticated algorithms to drive investment strategies. For individuals with a strong background in computer science, the opportunity to work on complex problems, develop innovative solutions, and contribute to strategic decision-making can be intellectually stimulating and rewarding.\n",
       "\n",
       "3. **Transferable Skills:** The technical skills and expertise gained through a computer science PhD are highly transferable and valuable in the finance industry, particularly in roles that involve quantitative analysis, algorithmic trading, risk management, and data-driven decision-making. By leveraging your computational skills in a hedge fund environment, you can enhance your professional toolkit and open up new avenues for career growth and advancement.\n",
       "\n",
       "4. **Networking and Professional Development:** Working in a hedge fund provides opportunities to network with industry professionals, build relationships with investors, traders, and analysts, and gain exposure to diverse financial instruments and markets. This exposure can broaden your perspective, expand your professional network, and facilitate continuous learning and skill development, all of which are essential for long-term career success and advancement.\n",
       "\n",
       "5. **Potential for Impact and Influence:** Despite criticisms of the hedge fund industry, working in this sector can offer opportunities to drive positive change, influence investment decisions, and contribute to the growth and success of the firm. By applying your technical expertise to optimize trading strategies, mitigate risks, and improve operational efficiency, you can make a meaningful impact on the organization and contribute to its overall success.\n",
       "\n",
       "In conclusion, while there are valid considerations to weigh when contemplating a career in a hedge fund, it's important to recognize the potential benefits and opportunities that this path can offer, particularly for individuals with a strong background in computer science. By carefully assessing your interests, goals, and priorities, you can make an informed decision that aligns with your aspirations and sets the stage for a fulfilling and rewarding career trajectory in the finance industry."
      ],
      "text/plain": [
       "<IPython.core.display.Markdown object>"
      ]
     },
     "metadata": {},
     "output_type": "display_data"
    },
    {
     "name": "stdout",
     "output_type": "stream",
     "text": [
      "Position B:\n"
     ]
    },
    {
     "data": {
      "text/markdown": [
       "Position B: As much as the points in favor of starting a career in a hedge fund after completing a computer science PhD seem appealing, there are significant downsides to consider as well. Here are some reasons why you should think twice before pursuing a career in a hedge fund:\n",
       "\n",
       "1. **Limited Control over Work**: Working in a hedge fund often involves high-pressure environments with demanding work schedules. The nature of the industry can lead to long hours, weekend work, and significant stress levels, which may not align with your desired work-life balance as a computer science PhD.\n",
       "\n",
       "2. **Potential Ethical Concerns**: Hedge funds are often associated with high-risk investment strategies, complex financial products, and speculative trading practices. Engaging in such activities may raise ethical considerations for individuals with a strong technical background and a focus on responsible decision-making.\n",
       "\n",
       "3. **Job Security**: The hedge fund industry is known for its volatility, with firms experiencing fluctuations in performance, regulatory challenges, and market uncertainties. This instability can impact job security and lead to layoffs or restructuring within the organization, putting your career at risk.\n",
       "\n",
       "4. **Lack of Long-Term Fulfillment**: While the financial rewards in the hedge fund industry can be attractive, some individuals may find that the work lacks long-term intrinsic motivation and personal fulfillment. The focus on short-term gains and profit maximization may not align with your values and career aspirations as a computer science PhD.\n",
       "\n",
       "5. **Limited Room for Creativity**: Hedge funds often follow established investment strategies and risk management approaches, which may limit opportunities for creative problem-solving and innovation. If you thrive on creative challenges and novel solutions, you may find the rigid structure of a hedge fund to be restrictive.\n",
       "\n",
       "6. **Alternative Career Paths**: As a computer science PhD, you have a wide range of career options available to you beyond the hedge fund industry. You may consider pursuing opportunities in technology companies, research institutions, academia, or other fields that align more closely with your interests and long-term career goals.\n",
       "\n",
       "In conclusion, while there are potential benefits to starting a career in a hedge fund, it is important to carefully weigh the drawbacks, such as work-life balance, ethical concerns, job security, fulfillment, creativity, and alternative career paths. By considering these factors and exploring other opportunities that leverage your technical expertise and align with your values, you can make an informed decision about your career path after completing a computer science PhD."
      ],
      "text/plain": [
       "<IPython.core.display.Markdown object>"
      ]
     },
     "metadata": {},
     "output_type": "display_data"
    },
    {
     "name": "stdout",
     "output_type": "stream",
     "text": [
      "Judge's Evaluation:\n"
     ]
    },
    {
     "data": {
      "text/markdown": [
       "Final Decision: \n",
       "\n",
       "Both Position A and Position B present well-structured arguments with valid points to consider regarding starting a career in a hedge fund after completing a computer science PhD. \n",
       "\n",
       "Position A emphasizes the utilization of technical skills, opportunities for innovation, high earning potential, fast-paced environment, career progression, and networking opportunities in favor of pursuing a career in a hedge fund. The argument highlights the alignment of a computer science background with the demands and opportunities in the financial industry.\n",
       "\n",
       "On the other hand, Position B raises concerns about limited career growth, ethical considerations, work-life balance, job stability, stress, ethical dilemmas, and the potential for limited creativity in the hedge fund industry. The argument cautions against potential pitfalls and encourages exploring alternative career paths that may be more fulfilling and aligned with personal values.\n",
       "\n",
       "Considering the clarity, logic, and use of evidence in both arguments, Position B appears to be more convincing as it adequately addresses the challenges and potential drawbacks associated with a career in a hedge fund after completing a computer science PhD. The emphasis on ethical concerns, work-life balance, job security, and alternative career paths provides a well-rounded perspective that encourages a thoughtful and comprehensive evaluation before making a decision."
      ],
      "text/plain": [
       "<IPython.core.display.Markdown object>"
      ]
     },
     "metadata": {},
     "output_type": "display_data"
    }
   ],
   "source": [
    "# Define the debate topic and initial messages\n",
    "topic = \"Should I start a career in hedge fund, after completing computer science PhD?\"\n",
    "position_a = \"Yes, you should start a career in hedge fund after completing computer science PhD.\"\n",
    "position_b = \"No, you should NOT start a career in hedge fund after completing computer science PhD.\"\n",
    "system_message_a = f\"You are an AI assistant. Argue in favor of: {position_a}.\"\n",
    "system_message_b = f\"You are an AI assistant. Argue in favor of: {position_b}.\"\n",
    "user_message = f\"Discuss the topic: {topic}\"\n",
    "\n",
    "# Number of debate rounds\n",
    "num_rounds = 4\n",
    "\n",
    "print(f\"\\n--- Debate Topic ---\")\n",
    "display(Markdown(topic))\n",
    "print(f\"\\nPosition A: {position_a}\")\n",
    "print(f\"\\nPosition B: {position_b}\")\n",
    "\n",
    "# Initialize responses\n",
    "all_responses_a = []\n",
    "all_responses_b = []\n",
    "\n",
    "for round_num in range(1, num_rounds + 1):\n",
    "    print(f\"\\n--- Round {round_num} ---\")\n",
    "\n",
    "    # Update user messages for each round\n",
    "    if round_num == 1:\n",
    "        user_message_a = user_message\n",
    "        user_message_b = user_message\n",
    "    else:\n",
    "        # In subsequent rounds, the user message includes the previous response\n",
    "        user_message_a = f\"Continue the debate. Previous argument from Position B: {response_b_content}\"\n",
    "        user_message_b = f\"Continue the debate. Previous argument from Position A: {response_a_content}\"\n",
    "\n",
    "    # Get responses for both sides of the debate\n",
    "    response_a = call_model(system_message=system_message_a, user_message=user_message_a)\n",
    "    response_b = call_model(system_message=system_message_b, user_message=user_message_b)\n",
    "\n",
    "    # Extract the content of the responses\n",
    "    response_a_content = response_a.choices[0].message.content\n",
    "    response_b_content = response_b.choices[0].message.content\n",
    "\n",
    "    # Store the responses\n",
    "    all_responses_a.append(response_a_content)\n",
    "    all_responses_b.append(response_b_content)\n",
    "\n",
    "    print(\"Position A:\")\n",
    "    display(Markdown(response_a_content))\n",
    "    print(\"Position B:\")\n",
    "    display(Markdown(response_b_content))\n",
    "\n",
    "# Combine all arguments for the judge's evaluation\n",
    "combined_arguments_a = \"\\n\\n\".join(all_responses_a)\n",
    "combined_arguments_b = \"\\n\\n\".join(all_responses_b)\n",
    "\n",
    "# Define the judge's evaluation\n",
    "judge_system_message = f\"\"\"\n",
    "You are an impartial AI judge. Evaluate the strength and validity of the arguments presented by both sides in the debate on the topic: \"{topic}\". \n",
    "Position A is: {position_a}. \n",
    "Position B is: {position_b}. \n",
    "Consider the clarity, logic, and use of evidence in each argument. \n",
    "Provide your assessment and decide which argument is more convincing. \n",
    "Highlight your final decision clearly, using the format: \n",
    "'Final Decision: [Position A/Position B is more convincing because...]'\n",
    "\"\"\"\n",
    "\n",
    "judge_user_message = f\"\"\"\n",
    "Position A argues: \"{combined_arguments_a}\"\n",
    "\n",
    "Position B argues: \"{combined_arguments_b}\"\n",
    "\"\"\"\n",
    "\n",
    "# Get the judge's evaluation\n",
    "judge_response = call_model(system_message=judge_system_message, user_message=judge_user_message)\n",
    "judge_decision = judge_response.choices[0].message.content\n",
    "\n",
    "# Print the judge's decision\n",
    "print(\"Judge's Evaluation:\")\n",
    "display(Markdown(judge_decision))"
   ]
  }
 ],
 "metadata": {
  "kernelspec": {
   "display_name": "debate",
   "language": "python",
   "name": "python3"
  },
  "language_info": {
   "codemirror_mode": {
    "name": "ipython",
    "version": 3
   },
   "file_extension": ".py",
   "mimetype": "text/x-python",
   "name": "python",
   "nbconvert_exporter": "python",
   "pygments_lexer": "ipython3",
   "version": "3.12.2"
  }
 },
 "nbformat": 4,
 "nbformat_minor": 2
}
