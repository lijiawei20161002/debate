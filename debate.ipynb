{
 "cells": [
  {
   "cell_type": "code",
   "execution_count": 2,
   "metadata": {},
   "outputs": [
    {
     "data": {
      "text/html": [
       "<style>.output_scroll {height: 300px; overflow-y: scroll; white-space: pre-wrap;}</style>"
      ],
      "text/plain": [
       "<IPython.core.display.HTML object>"
      ]
     },
     "metadata": {},
     "output_type": "display_data"
    }
   ],
   "source": [
    "from openai import OpenAI\n",
    "from IPython.display import display, Markdown, HTML\n",
    "display(HTML(\"<style>.output_scroll {height: 300px; overflow-y: scroll; white-space: pre-wrap;}</style>\"))"
   ]
  },
  {
   "cell_type": "code",
   "execution_count": 4,
   "metadata": {},
   "outputs": [],
   "source": [
    "import os\n",
    "api_key = os.getenv('OPENAI_API_KEY')\n",
    "organization_id = os.getenv('OPENAI_ORG_ID')\n",
    "if not api_key:\n",
    "    raise ValueError(\"Please set the OPENAI_API_KEY environment variable.\")\n",
    "if not organization_id:\n",
    "    raise ValueError(\"Please set the OPENAI_ORG_ID environment variable.\")\n",
    "client = OpenAI(\n",
    "    organization=organization_id,\n",
    "    api_key=api_key\n",
    ")\n"
   ]
  },
  {
   "cell_type": "code",
   "execution_count": 5,
   "metadata": {},
   "outputs": [],
   "source": [
    "def call_model(model=\"gpt-3.5-turbo\", system_message=None, user_message=None, temperature=0):\n",
    "    return client.chat.completions.create(\n",
    "        model=model,\n",
    "        messages=[\n",
    "            {\"role\": \"system\", \"content\": system_message},\n",
    "            {\"role\": \"user\", \"content\": user_message}\n",
    "        ]\n",
    "    )"
   ]
  },
  {
   "cell_type": "markdown",
   "metadata": {},
   "source": [
    "## Judge in the loop"
   ]
  },
  {
   "cell_type": "code",
   "execution_count": 10,
   "metadata": {},
   "outputs": [
    {
     "name": "stdout",
     "output_type": "stream",
     "text": [
      "\n",
      "--- Debate Topic ---\n"
     ]
    },
    {
     "data": {
      "text/markdown": [
       "Should I start a career in hedge fund, after completing computer science PhD?"
      ],
      "text/plain": [
       "<IPython.core.display.Markdown object>"
      ]
     },
     "metadata": {},
     "output_type": "display_data"
    },
    {
     "name": "stdout",
     "output_type": "stream",
     "text": [
      "\n",
      "Position A: Yes, you should start a career in hedge fund after completing computer science PhD.\n",
      "\n",
      "Position B: No, you should NOT start a career in hedge fund after completing computer science PhD.\n",
      "\n",
      "--- Round 1 ---\n",
      "Position A:\n"
     ]
    },
    {
     "data": {
      "text/markdown": [
       "Absolutely, starting a career in a hedge fund after completing your computer science PhD can be a great decision for several reasons:\n",
       "\n",
       "1. Utilize Your Skill Set: Your PhD in computer science equips you with a strong analytical and problem-solving skill set, which are highly valued in the finance industry, especially in quantitative trading and algorithmic investing. Your expertise in programming, data analysis, and machine learning can be directly applied to developing trading strategies and building sophisticated models for hedge funds.\n",
       "\n",
       "2. Potential for High Earnings: Hedge fund professionals typically have the potential to earn significant amounts of money through performance-based bonuses. If you are able to leverage your technical skills effectively in a hedge fund environment, you may have the opportunity to earn a lucrative income compared to other traditional computer science career paths.\n",
       "\n",
       "3. Exposure to Cutting-Edge Technology: Working in a hedge fund will expose you to the latest technological advancements in the financial industry. You will have the opportunity to work with large datasets, implement complex algorithms, and collaborate with experts in finance, mathematics, and economics. This exposure can help you enhance your technical knowledge and broaden your skill set.\n",
       "\n",
       "4. Fast-Paced Environment: Hedge funds operate in a fast-paced and dynamic environment where decisions need to be made quickly based on real-time market data. If you enjoy challenges, problem-solving, and thrive in high-pressure situations, a career in a hedge fund can be both exciting and rewarding.\n",
       "\n",
       "5. Opportunity for Career Growth: Hedge funds often provide opportunities for rapid career advancement based on performance. If you demonstrate your technical capabilities and contribute to the success of the fund, you may have the chance to progress to more senior roles with increased responsibilities and leadership opportunities.\n",
       "\n",
       "In conclusion, starting a career in a hedge fund after completing your computer science PhD can be a strategic move that allows you to leverage your technical expertise, potentially earn a high income, work with cutting-edge technology, thrive in a fast-paced environment, and achieve career growth. If you are passionate about finance, enjoy applying your analytical skills to real-world problems, and are looking for a challenging and rewarding career path, pursuing a career in a hedge fund could be a great fit for you."
      ],
      "text/plain": [
       "<IPython.core.display.Markdown object>"
      ]
     },
     "metadata": {},
     "output_type": "display_data"
    },
    {
     "name": "stdout",
     "output_type": "stream",
     "text": [
      "Position B:\n"
     ]
    },
    {
     "data": {
      "text/markdown": [
       "As a computer science PhD graduate, you have a wide range of career opportunities available to you, including pursuing a career in a hedge fund. While working in a hedge fund can offer high financial rewards and the opportunity to work on cutting-edge technology, there are several reasons why you may want to carefully consider this career path before diving in.\n",
       "\n",
       "1. Lack of Job Security: Working in a hedge fund can be incredibly volatile, as the industry is heavily influenced by market fluctuations and economic conditions. This can make job security precarious, especially during times of economic downturn or market instability.\n",
       "\n",
       "2. Long Hours and Stressful Environment: Jobs in hedge funds are notorious for their long hours and high-stress environment. You may be expected to work consistently long hours, including weekends and holidays, which can lead to burnout and negatively impact your work-life balance.\n",
       "\n",
       "3. Ethical Concerns: Hedge funds are often criticized for their lack of transparency and ethical practices. Some funds engage in high-risk trading strategies or engage in practices that are not in the best interest of their clients. This can raise ethical concerns for individuals who prioritize integrity and ethical decision-making.\n",
       "\n",
       "4. Limited Career Growth: While working in a hedge fund can offer significant financial rewards, the career progression can sometimes be limited. Advancement opportunities may be based more on individual performance rather than structured career development paths, which can impact your long-term career growth and opportunities for advancement.\n",
       "\n",
       "5. Alternatives in the Tech Industry: As a computer science PhD graduate, you have many opportunities to work in the technology industry, where you can leverage your technical expertise and contribute to cutting-edge innovations. Tech companies often provide a more stable work environment, opportunities for career growth, and a greater focus on work-life balance.\n",
       "\n",
       "Ultimately, the decision to pursue a career in a hedge fund after completing your computer science PhD should be carefully considered based on your personal values, career goals, and risk tolerance. It is important to weigh the potential benefits and drawbacks of working in this industry before making a decision."
      ],
      "text/plain": [
       "<IPython.core.display.Markdown object>"
      ]
     },
     "metadata": {},
     "output_type": "display_data"
    },
    {
     "name": "stdout",
     "output_type": "stream",
     "text": [
      "Judge's Evaluation:\n"
     ]
    },
    {
     "data": {
      "text/markdown": [
       "Position A presents a compelling argument in favor of starting a career in a hedge fund after completing a computer science PhD. The argument is well-structured and supported by clear points:\n",
       "\n",
       "1. **Utilize Your Skill Set**: The argument effectively highlights how the analytical and problem-solving skills gained from a computer science PhD can be directly applied in the finance industry, especially in quantitative trading and algorithmic investing.\n",
       "2. **Potential for High Earnings**: This point logically explains how leveraging technical skills in a hedge fund environment can lead to significant financial rewards through performance-based bonuses.\n",
       "3. **Exposure to Cutting-Edge Technology**: The argument convincingly emphasizes the exposure to the latest technological advancements in the financial industry, showcasing the potential for enhancing technical knowledge and skill set.\n",
       "4. **Fast-Paced Environment**: The discussion on the fast-paced and dynamic nature of hedge funds appeals to individuals who thrive in challenging and high-pressure scenarios, providing a realistic view of the work environment.\n",
       "5. **Opportunity for Career Growth**: The argument illustrates how job performance can directly impact career advancement in a hedge fund, offering a pathway to more senior roles and leadership opportunities.\n",
       "\n",
       "On the other hand, Position B presents a valid counterargument against starting a career in a hedge fund:\n",
       "\n",
       "1. **Lack of Job Security**: The concern about job security in hedge funds during market fluctuations is a legitimate point that raises awareness about the volatility of the industry.\n",
       "2. **Long Hours and Stressful Environment**: The discussion on long working hours and high-stress levels provides a realistic portrayal of the potential challenges in a hedge fund environment.\n",
       "3. **Ethical Concerns**: Highlighting ethical issues within the industry indicates a consideration for values and integrity that individuals may reassess before committing to a hedge fund career.\n",
       "4. **Limited Career Growth**: The point on limited career progression based on individual performance is a valid concern for those seeking structured career development paths.\n",
       "5. **Alternatives in the Tech Industry**: The alternative career paths in the tech industry are presented as viable options that offer stability, growth opportunities, and a better work-life balance.\n",
       "\n",
       "In evaluating the arguments, both positions offer strong points based on different perspectives. Position A emphasizes the direct application of technical skills, potential earnings, exposure to technology, fast-paced environment, and career growth in hedge funds. In contrast, Position B raises concerns about job security, work-life balance, ethics, limited career growth, and alternative opportunities in the tech industry.\n",
       "\n",
       "**Final Decision: Yes, you should start a career in hedge fund after completing computer science PhD.**\n",
       "Position A is more convincing because it provides a thorough justification for leveraging technical expertise, potential financial rewards, exposure to technology, career advancement opportunities, and the appeal of a challenging and rewarding environment in hedge funds."
      ],
      "text/plain": [
       "<IPython.core.display.Markdown object>"
      ]
     },
     "metadata": {},
     "output_type": "display_data"
    }
   ],
   "source": [
    "# Define the debate topic and initial messages\n",
    "topic = \"Should I start a career in hedge fund, after completing computer science PhD?\"\n",
    "position_a = \"Yes, you should start a career in hedge fund after completing computer science PhD.\"\n",
    "position_b = \"No, you should NOT start a career in hedge fund after completing computer science PhD.\"\n",
    "system_message_a = f\"You are an AI assistant. Argue in favor of {position_a}.\"\n",
    "system_message_b = f\"You are an AI assistant. Argue in favor of {position_b}.\"\n",
    "user_message = f\"Discuss the topic: {topic}\"\n",
    "\n",
    "# Number of debate rounds\n",
    "num_rounds = 1\n",
    "print(f\"\\n--- Debate Topic ---\")\n",
    "display(Markdown(topic))\n",
    "print(f\"\\nPosition A: {position_a}\")\n",
    "print(f\"\\nPosition B: {position_b}\")\n",
    "\n",
    "# Initialize responses\n",
    "response_a_content = \"\"\n",
    "response_b_content = \"\"\n",
    "\n",
    "for round_num in range(1, num_rounds + 1):\n",
    "    print(f\"\\n--- Round {round_num} ---\")\n",
    "\n",
    "    # Update user messages for each round\n",
    "    if round_num == 1:\n",
    "        user_message_a = user_message\n",
    "        user_message_b = user_message\n",
    "    else:\n",
    "        # In subsequent rounds, the user message includes the previous response and the judge's feedback\n",
    "        user_message_a = f\"Continue the debate considering the feedback: {judge_decision}\\nPrevious Argument: {response_b_content}\"\n",
    "        user_message_b = f\"Continue the debate considering the feedback: {judge_decision}\\nPrevious Argument: {response_a_content}\"\n",
    "\n",
    "    # Get responses for both sides of the debate\n",
    "    response_a = call_model(system_message=system_message_a, user_message=user_message_a)\n",
    "    response_b = call_model(system_message=system_message_b, user_message=user_message_b)\n",
    "\n",
    "    # Extract the content of the responses\n",
    "    response_a_content = response_a.choices[0].message.content\n",
    "    response_b_content = response_b.choices[0].message.content\n",
    "\n",
    "    print(\"Position A:\")\n",
    "    display(Markdown(response_a_content))\n",
    "    print(\"Position B:\")\n",
    "    display(Markdown(response_b_content))\n",
    "\n",
    "    # Define the judge's evaluation\n",
    "    judge_system_message = f\"You are an impartial AI judge. \\\n",
    "        Evaluate the strength and validity of the arguments presented by both sides in the debate on the topic: \\\n",
    "        {topic}. \\\n",
    "        Position A is {position_a}. \\\n",
    "        Position B is {position_b}. \\\n",
    "        Consider the clarity, logic, and use of evidence in each argument. \\\n",
    "        Provide your assessment and decide which argument is more convincing.\\\n",
    "        Highlight your final decision clearly, using the format: \\\n",
    "        'Final Decision: [{position_a} or {position_b}]\\\n",
    "        [Position A/Position B is more convincing because...]\"\n",
    "    judge_user_message = f\"Position A argues: '{response_a_content}'\\n\\n\\\n",
    "        Position B argues: '{response_b_content}'\"\n",
    "\n",
    "    # Get the judge's evaluation\n",
    "    judge_response = call_model(system_message=judge_system_message, user_message=judge_user_message)\n",
    "    judge_decision = judge_response.choices[0].message.content\n",
    "\n",
    "    # Print the judge's decision\n",
    "    print(\"Judge's Evaluation:\")\n",
    "    display(Markdown(judge_decision))"
   ]
  },
  {
   "cell_type": "markdown",
   "metadata": {},
   "source": [
    "## Judge not in the loop"
   ]
  },
  {
   "cell_type": "code",
   "execution_count": 11,
   "metadata": {},
   "outputs": [
    {
     "name": "stdout",
     "output_type": "stream",
     "text": [
      "\n",
      "--- Debate Topic ---\n"
     ]
    },
    {
     "data": {
      "text/markdown": [
       "Should I start a career in hedge fund, after completing computer science PhD?"
      ],
      "text/plain": [
       "<IPython.core.display.Markdown object>"
      ]
     },
     "metadata": {},
     "output_type": "display_data"
    },
    {
     "name": "stdout",
     "output_type": "stream",
     "text": [
      "\n",
      "Position A: Yes, you should start a career in hedge fund after completing computer science PhD.\n",
      "\n",
      "Position B: No, you should NOT start a career in hedge fund after completing computer science PhD.\n",
      "\n",
      "--- Round 1 ---\n",
      "Position A:\n"
     ]
    },
    {
     "data": {
      "text/markdown": [
       "Yes, pursuing a career in a hedge fund after completing a computer science PhD can be a promising and rewarding path for several reasons:\n",
       "\n",
       "1. **Utilization of Technical Skills**: A computer science PhD provides you with a strong foundation in technical skills such as programming, data analysis, and algorithm development. These skills are highly sought after in the finance industry, especially in hedge funds where quantitative analysis and automated trading systems play a significant role.\n",
       "\n",
       "2. **Opportunities for Innovation**: Hedge funds often rely on advanced technologies and computational methods to gain a competitive edge in the financial markets. With a computer science background, you can contribute to developing cutting-edge strategies, algorithms, and tools that can potentially generate significant returns for the fund.\n",
       "\n",
       "3. **Potential for High Earnings**: Hedge fund professionals, particularly those with strong technical backgrounds, have the potential to earn substantial salaries and bonuses due to the performance-based nature of the industry. Your expertise in computer science can position you for roles that offer lucrative compensation packages.\n",
       "\n",
       "4. **Intellectual Challenge**: Working in a hedge fund can provide you with intellectually stimulating challenges as you analyze complex financial data, design sophisticated models, and optimize trading strategies. The fast-paced and dynamic environment of a hedge fund can offer a high degree of professional satisfaction for individuals with a strong technical curiosity.\n",
       "\n",
       "5. **Networking and Growth Opportunities**: The finance industry, particularly hedge funds, can offer extensive networking opportunities with professionals from diverse backgrounds. This can open doors for career growth, collaborations on innovative projects, and exposure to different aspects of the financial industry.\n",
       "\n",
       "6. **Diverse Career Paths**: A career in a hedge fund can lead to diverse career paths within the finance industry, including roles in quantitative analysis, risk management, portfolio management, and more. Your computer science background can provide you with a versatile skill set that is transferable across different areas within the hedge fund industry.\n",
       "\n",
       "In conclusion, pursuing a career in a hedge fund after completing a computer science PhD can be a strategic choice that capitalizes on your technical expertise and opens up exciting opportunities in the finance industry. It's important to carefully research and consider the specific roles and responsibilities within hedge funds to ensure that it aligns with your career goals and interests."
      ],
      "text/plain": [
       "<IPython.core.display.Markdown object>"
      ]
     },
     "metadata": {},
     "output_type": "display_data"
    },
    {
     "name": "stdout",
     "output_type": "stream",
     "text": [
      "Position B:\n"
     ]
    },
    {
     "data": {
      "text/markdown": [
       "While a career in a hedge fund may be appealing due to potential financial rewards and opportunities for utilizing quantitative and analytical skills, there are several reasons why it may not be the best choice after completing a computer science PhD.\n",
       "\n",
       "1. Lack of Alignment with Research Interests: Pursuing a career in a hedge fund may not align with the research interests and expertise developed during a computer science PhD program. If your passion lies in academia or a different industry, transitioning to a hedge fund may lead to dissatisfaction and a disconnect with your original career goals.\n",
       "\n",
       "2. Work-Life Balance: Careers in hedge funds are notorious for their demanding work schedules and high-stress environments. This may not be conducive to a healthy work-life balance, especially after completing a rigorous PhD program. Burnout and long-term dissatisfaction with work can result from sustained periods of high pressure and long hours.\n",
       "\n",
       "3. Ethical Considerations: Some individuals may have ethical concerns about working in a hedge fund, particularly due to perceptions of the industry as being profit-driven and potentially contributing to economic inequalities. If you have strong ethical convictions, a career in a hedge fund may not align with your personal values.\n",
       "\n",
       "4. Limited Career Development: While a career in a hedge fund can offer substantial financial rewards, it may not provide the same opportunities for career development and growth as other industries. The narrow focus on financial markets and quantitative analysis may limit the development of broader skills and expertise.\n",
       "\n",
       "5. Market Volatility: The financial industry, including hedge funds, is subject to market volatility and external factors that can impact job security and financial stability. This instability may not be suitable for individuals seeking a more predictable and secure career path.\n",
       "\n",
       "Ultimately, the decision to pursue a career in a hedge fund after completing a computer science PhD should be based on your individual career goals, values, and interests. It's important to carefully consider the potential challenges and drawbacks of working in this industry before making a decision. There may be other career paths that are better suited to your skills and aspirations."
      ],
      "text/plain": [
       "<IPython.core.display.Markdown object>"
      ]
     },
     "metadata": {},
     "output_type": "display_data"
    },
    {
     "name": "stdout",
     "output_type": "stream",
     "text": [
      "Judge's Evaluation:\n"
     ]
    },
    {
     "data": {
      "text/markdown": [
       "Final Decision: Position A is more convincing because it presents a well-structured argument highlighting the benefits and opportunities of starting a career in a hedge fund after completing a computer science PhD. The argument is logical, supported by specific reasons such as the utilization of technical skills, opportunities for innovation, potential for high earnings, intellectual challenges, networking opportunities, and diverse career paths within the industry. Position A effectively addresses the potential for professional growth and alignment with one's technical expertise. Position B, while acknowledging some valid concerns such as work-life balance and ethical considerations, does not provide as strong a case against pursuing a career in a hedge fund considering the comprehensive benefits and opportunities outlined in Position A."
      ],
      "text/plain": [
       "<IPython.core.display.Markdown object>"
      ]
     },
     "metadata": {},
     "output_type": "display_data"
    }
   ],
   "source": [
    "# Define the debate topic and initial messages\n",
    "topic = \"Should I start a career in hedge fund, after completing computer science PhD?\"\n",
    "position_a = \"Yes, you should start a career in hedge fund after completing computer science PhD.\"\n",
    "position_b = \"No, you should NOT start a career in hedge fund after completing computer science PhD.\"\n",
    "system_message_a = f\"You are an AI assistant. Argue in favor of: {position_a}.\"\n",
    "system_message_b = f\"You are an AI assistant. Argue in favor of: {position_b}.\"\n",
    "user_message = f\"Discuss the topic: {topic}\"\n",
    "\n",
    "# Number of debate rounds\n",
    "num_rounds = 1\n",
    "\n",
    "print(f\"\\n--- Debate Topic ---\")\n",
    "display(Markdown(topic))\n",
    "print(f\"\\nPosition A: {position_a}\")\n",
    "print(f\"\\nPosition B: {position_b}\")\n",
    "\n",
    "# Initialize responses\n",
    "all_responses_a = []\n",
    "all_responses_b = []\n",
    "\n",
    "for round_num in range(1, num_rounds + 1):\n",
    "    print(f\"\\n--- Round {round_num} ---\")\n",
    "\n",
    "    # Update user messages for each round\n",
    "    if round_num == 1:\n",
    "        user_message_a = user_message\n",
    "        user_message_b = user_message\n",
    "    else:\n",
    "        # In subsequent rounds, the user message includes the previous response\n",
    "        user_message_a = f\"Continue the debate. Previous argument from Position B: {response_b_content}\"\n",
    "        user_message_b = f\"Continue the debate. Previous argument from Position A: {response_a_content}\"\n",
    "\n",
    "    # Get responses for both sides of the debate\n",
    "    response_a = call_model(system_message=system_message_a, user_message=user_message_a)\n",
    "    response_b = call_model(system_message=system_message_b, user_message=user_message_b)\n",
    "\n",
    "    # Extract the content of the responses\n",
    "    response_a_content = response_a.choices[0].message.content\n",
    "    response_b_content = response_b.choices[0].message.content\n",
    "\n",
    "    # Store the responses\n",
    "    all_responses_a.append(response_a_content)\n",
    "    all_responses_b.append(response_b_content)\n",
    "\n",
    "    print(\"Position A:\")\n",
    "    display(Markdown(response_a_content))\n",
    "    print(\"Position B:\")\n",
    "    display(Markdown(response_b_content))\n",
    "\n",
    "# Combine all arguments for the judge's evaluation\n",
    "combined_arguments_a = \"\\n\\n\".join(all_responses_a)\n",
    "combined_arguments_b = \"\\n\\n\".join(all_responses_b)\n",
    "\n",
    "# Define the judge's evaluation\n",
    "judge_system_message = f\"\"\"\n",
    "You are an impartial AI judge. Evaluate the strength and validity of the arguments presented by both sides in the debate on the topic: \"{topic}\". \n",
    "Position A is: {position_a}. \n",
    "Position B is: {position_b}. \n",
    "Consider the clarity, logic, and use of evidence in each argument. \n",
    "Provide your assessment and decide which argument is more convincing. \n",
    "Highlight your final decision clearly, using the format: \n",
    "'Final Decision: [Position A/Position B is more convincing because...]'\n",
    "\"\"\"\n",
    "\n",
    "judge_user_message = f\"\"\"\n",
    "Position A argues: \"{combined_arguments_a}\"\n",
    "\n",
    "Position B argues: \"{combined_arguments_b}\"\n",
    "\"\"\"\n",
    "\n",
    "# Get the judge's evaluation\n",
    "judge_response = call_model(system_message=judge_system_message, user_message=judge_user_message)\n",
    "judge_decision = judge_response.choices[0].message.content\n",
    "\n",
    "# Print the judge's decision\n",
    "print(\"Judge's Evaluation:\")\n",
    "display(Markdown(judge_decision))"
   ]
  }
 ],
 "metadata": {
  "kernelspec": {
   "display_name": "debate",
   "language": "python",
   "name": "python3"
  },
  "language_info": {
   "codemirror_mode": {
    "name": "ipython",
    "version": 3
   },
   "file_extension": ".py",
   "mimetype": "text/x-python",
   "name": "python",
   "nbconvert_exporter": "python",
   "pygments_lexer": "ipython3",
   "version": "3.12.2"
  }
 },
 "nbformat": 4,
 "nbformat_minor": 2
}
